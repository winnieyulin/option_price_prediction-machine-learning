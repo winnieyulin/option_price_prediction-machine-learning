{
 "cells": [
  {
   "cell_type": "code",
   "execution_count": 86,
   "metadata": {
    "ExecuteTime": {
     "end_time": "2021-04-09T16:25:01.318005Z",
     "start_time": "2021-04-09T16:25:01.311732Z"
    }
   },
   "outputs": [],
   "source": [
    "import pandas as pd \n",
    "import numpy as np\n",
    "\n",
    "import statsmodels.formula.api as smf\n",
    "from sklearn.model_selection import train_test_split\n",
    "from sklearn.linear_model import LogisticRegression\n",
    "from sklearn.neighbors import KNeighborsClassifier\n",
    "from sklearn.ensemble import RandomForestClassifier\n",
    "from sklearn.tree import DecisionTreeClassifier\n",
    "from sklearn.svm import SVC\n",
    "from xgboost import XGBClassifier\n",
    "from sklearn.naive_bayes import GaussianNB\n",
    "\n",
    "from sklearn.metrics import accuracy_score\n",
    "from sklearn.model_selection import KFold  ## for regression\n",
    "from sklearn.model_selection import StratifiedKFold ## recommended for classification\n",
    "from sklearn.model_selection import cross_val_score## a quick way to do Cross_validation\n",
    "from sklearn.model_selection import LeaveOneOut\n",
    "from sklearn.metrics import confusion_matrix, precision_recall_curve, roc_curve, auc, log_loss\n",
    "\n",
    "import matplotlib.pyplot as plt\n",
    "import seaborn as sns\n",
    "\n",
    "\n",
    "\n"
   ]
  },
  {
   "cell_type": "markdown",
   "metadata": {},
   "source": [
    "## Train the model"
   ]
  },
  {
   "cell_type": "code",
   "execution_count": 2,
   "metadata": {
    "ExecuteTime": {
     "end_time": "2021-04-05T07:59:27.894757Z",
     "start_time": "2021-04-05T07:59:27.888748Z"
    }
   },
   "outputs": [],
   "source": [
    "def plot_roc_curve(fpr,tpr,roc_auc):\n",
    "    \"\"\"fpr is False Positive Rate\n",
    "        tpr is True positive Rate\n",
    "    \"\"\"\n",
    "    plt.figure()\n",
    "    lw = 2 # line width\n",
    "    plt.figure(figsize = (6,6))\n",
    "    plt.plot(fpr,tpr,color = 'darkorange',\n",
    "            lw = lw, label = 'ROC curve (area = %0.2f)'% roc_auc)\n",
    "    plt.plot([0,1],[0,1],color = 'navy',lw = lw, linestyle ='--')\n",
    "    plt.xlim([0.0,1.0])\n",
    "    plt.ylim([0.0,1.05])\n",
    "    plt.xlabel('False Positive Rate')\n",
    "    plt.xlabel('True Positive Rate')\n",
    "    plt.title('ROC Curve')\n",
    "    plt.legend(loc = 'lower right')\n",
    "    plt.show()\n",
    "    \n",
    "    "
   ]
  },
  {
   "cell_type": "code",
   "execution_count": 3,
   "metadata": {
    "ExecuteTime": {
     "end_time": "2021-04-05T07:59:28.819585Z",
     "start_time": "2021-04-05T07:59:28.806595Z"
    }
   },
   "outputs": [],
   "source": [
    "train = pd.read_csv('option_train.csv')\n",
    "test = pd.read_csv('option_test_wolabel.csv')"
   ]
  },
  {
   "cell_type": "code",
   "execution_count": 4,
   "metadata": {
    "ExecuteTime": {
     "end_time": "2021-04-05T07:59:30.746208Z",
     "start_time": "2021-04-05T07:59:30.733984Z"
    }
   },
   "outputs": [
    {
     "data": {
      "text/html": [
       "<div>\n",
       "<style scoped>\n",
       "    .dataframe tbody tr th:only-of-type {\n",
       "        vertical-align: middle;\n",
       "    }\n",
       "\n",
       "    .dataframe tbody tr th {\n",
       "        vertical-align: top;\n",
       "    }\n",
       "\n",
       "    .dataframe thead th {\n",
       "        text-align: right;\n",
       "    }\n",
       "</style>\n",
       "<table border=\"1\" class=\"dataframe\">\n",
       "  <thead>\n",
       "    <tr style=\"text-align: right;\">\n",
       "      <th></th>\n",
       "      <th>Value</th>\n",
       "      <th>S</th>\n",
       "      <th>K</th>\n",
       "      <th>tau</th>\n",
       "      <th>r</th>\n",
       "      <th>BS</th>\n",
       "    </tr>\n",
       "  </thead>\n",
       "  <tbody>\n",
       "    <tr>\n",
       "      <th>0</th>\n",
       "      <td>21.670404</td>\n",
       "      <td>431.623898</td>\n",
       "      <td>420</td>\n",
       "      <td>0.341270</td>\n",
       "      <td>0.03013</td>\n",
       "      <td>Under</td>\n",
       "    </tr>\n",
       "    <tr>\n",
       "      <th>1</th>\n",
       "      <td>0.125000</td>\n",
       "      <td>427.015526</td>\n",
       "      <td>465</td>\n",
       "      <td>0.166667</td>\n",
       "      <td>0.03126</td>\n",
       "      <td>Over</td>\n",
       "    </tr>\n",
       "    <tr>\n",
       "      <th>2</th>\n",
       "      <td>20.691244</td>\n",
       "      <td>427.762336</td>\n",
       "      <td>415</td>\n",
       "      <td>0.265873</td>\n",
       "      <td>0.03116</td>\n",
       "      <td>Under</td>\n",
       "    </tr>\n",
       "    <tr>\n",
       "      <th>3</th>\n",
       "      <td>1.035002</td>\n",
       "      <td>451.711658</td>\n",
       "      <td>460</td>\n",
       "      <td>0.063492</td>\n",
       "      <td>0.02972</td>\n",
       "      <td>Over</td>\n",
       "    </tr>\n",
       "    <tr>\n",
       "      <th>4</th>\n",
       "      <td>39.553020</td>\n",
       "      <td>446.718974</td>\n",
       "      <td>410</td>\n",
       "      <td>0.166667</td>\n",
       "      <td>0.02962</td>\n",
       "      <td>Under</td>\n",
       "    </tr>\n",
       "  </tbody>\n",
       "</table>\n",
       "</div>"
      ],
      "text/plain": [
       "       Value           S    K       tau        r     BS\n",
       "0  21.670404  431.623898  420  0.341270  0.03013  Under\n",
       "1   0.125000  427.015526  465  0.166667  0.03126   Over\n",
       "2  20.691244  427.762336  415  0.265873  0.03116  Under\n",
       "3   1.035002  451.711658  460  0.063492  0.02972   Over\n",
       "4  39.553020  446.718974  410  0.166667  0.02962  Under"
      ]
     },
     "execution_count": 4,
     "metadata": {},
     "output_type": "execute_result"
    }
   ],
   "source": [
    "train.head()"
   ]
  },
  {
   "cell_type": "code",
   "execution_count": 5,
   "metadata": {
    "ExecuteTime": {
     "end_time": "2021-04-05T07:59:31.916806Z",
     "start_time": "2021-04-05T07:59:31.907802Z"
    }
   },
   "outputs": [
    {
     "name": "stdout",
     "output_type": "stream",
     "text": [
      "<class 'pandas.core.frame.DataFrame'>\n",
      "RangeIndex: 1680 entries, 0 to 1679\n",
      "Data columns (total 6 columns):\n",
      " #   Column  Non-Null Count  Dtype  \n",
      "---  ------  --------------  -----  \n",
      " 0   Value   1680 non-null   float64\n",
      " 1   S       1680 non-null   float64\n",
      " 2   K       1680 non-null   int64  \n",
      " 3   tau     1680 non-null   float64\n",
      " 4   r       1680 non-null   float64\n",
      " 5   BS      1680 non-null   object \n",
      "dtypes: float64(4), int64(1), object(1)\n",
      "memory usage: 78.9+ KB\n"
     ]
    }
   ],
   "source": [
    "train.info()"
   ]
  },
  {
   "cell_type": "code",
   "execution_count": 6,
   "metadata": {
    "ExecuteTime": {
     "end_time": "2021-04-05T07:59:35.259581Z",
     "start_time": "2021-04-05T07:59:35.248715Z"
    }
   },
   "outputs": [
    {
     "data": {
      "text/html": [
       "<div>\n",
       "<style scoped>\n",
       "    .dataframe tbody tr th:only-of-type {\n",
       "        vertical-align: middle;\n",
       "    }\n",
       "\n",
       "    .dataframe tbody tr th {\n",
       "        vertical-align: top;\n",
       "    }\n",
       "\n",
       "    .dataframe thead th {\n",
       "        text-align: right;\n",
       "    }\n",
       "</style>\n",
       "<table border=\"1\" class=\"dataframe\">\n",
       "  <thead>\n",
       "    <tr style=\"text-align: right;\">\n",
       "      <th></th>\n",
       "      <th>Value</th>\n",
       "      <th>S</th>\n",
       "      <th>K</th>\n",
       "      <th>tau</th>\n",
       "      <th>r</th>\n",
       "      <th>BS</th>\n",
       "      <th>BS_binary</th>\n",
       "    </tr>\n",
       "  </thead>\n",
       "  <tbody>\n",
       "    <tr>\n",
       "      <th>0</th>\n",
       "      <td>21.670404</td>\n",
       "      <td>431.623898</td>\n",
       "      <td>420</td>\n",
       "      <td>0.341270</td>\n",
       "      <td>0.03013</td>\n",
       "      <td>Under</td>\n",
       "      <td>0</td>\n",
       "    </tr>\n",
       "    <tr>\n",
       "      <th>1</th>\n",
       "      <td>0.125000</td>\n",
       "      <td>427.015526</td>\n",
       "      <td>465</td>\n",
       "      <td>0.166667</td>\n",
       "      <td>0.03126</td>\n",
       "      <td>Over</td>\n",
       "      <td>1</td>\n",
       "    </tr>\n",
       "    <tr>\n",
       "      <th>2</th>\n",
       "      <td>20.691244</td>\n",
       "      <td>427.762336</td>\n",
       "      <td>415</td>\n",
       "      <td>0.265873</td>\n",
       "      <td>0.03116</td>\n",
       "      <td>Under</td>\n",
       "      <td>0</td>\n",
       "    </tr>\n",
       "    <tr>\n",
       "      <th>3</th>\n",
       "      <td>1.035002</td>\n",
       "      <td>451.711658</td>\n",
       "      <td>460</td>\n",
       "      <td>0.063492</td>\n",
       "      <td>0.02972</td>\n",
       "      <td>Over</td>\n",
       "      <td>1</td>\n",
       "    </tr>\n",
       "    <tr>\n",
       "      <th>4</th>\n",
       "      <td>39.553020</td>\n",
       "      <td>446.718974</td>\n",
       "      <td>410</td>\n",
       "      <td>0.166667</td>\n",
       "      <td>0.02962</td>\n",
       "      <td>Under</td>\n",
       "      <td>0</td>\n",
       "    </tr>\n",
       "  </tbody>\n",
       "</table>\n",
       "</div>"
      ],
      "text/plain": [
       "       Value           S    K       tau        r     BS  BS_binary\n",
       "0  21.670404  431.623898  420  0.341270  0.03013  Under          0\n",
       "1   0.125000  427.015526  465  0.166667  0.03126   Over          1\n",
       "2  20.691244  427.762336  415  0.265873  0.03116  Under          0\n",
       "3   1.035002  451.711658  460  0.063492  0.02972   Over          1\n",
       "4  39.553020  446.718974  410  0.166667  0.02962  Under          0"
      ]
     },
     "execution_count": 6,
     "metadata": {},
     "output_type": "execute_result"
    }
   ],
   "source": [
    "## covert to numeric binary class\n",
    "train['BS_binary'] = np.where(train['BS'] =='Over',1,0)\n",
    "train.head()"
   ]
  },
  {
   "cell_type": "code",
   "execution_count": 7,
   "metadata": {
    "ExecuteTime": {
     "end_time": "2021-04-05T07:59:36.655609Z",
     "start_time": "2021-04-05T07:59:36.651013Z"
    }
   },
   "outputs": [],
   "source": [
    "train.drop('BS',inplace= True,axis = 1)\n"
   ]
  },
  {
   "cell_type": "code",
   "execution_count": 89,
   "metadata": {
    "ExecuteTime": {
     "end_time": "2021-04-09T16:25:29.218768Z",
     "start_time": "2021-04-09T16:25:29.201856Z"
    }
   },
   "outputs": [
    {
     "data": {
      "text/html": [
       "<div>\n",
       "<style scoped>\n",
       "    .dataframe tbody tr th:only-of-type {\n",
       "        vertical-align: middle;\n",
       "    }\n",
       "\n",
       "    .dataframe tbody tr th {\n",
       "        vertical-align: top;\n",
       "    }\n",
       "\n",
       "    .dataframe thead th {\n",
       "        text-align: right;\n",
       "    }\n",
       "</style>\n",
       "<table border=\"1\" class=\"dataframe\">\n",
       "  <thead>\n",
       "    <tr style=\"text-align: right;\">\n",
       "      <th></th>\n",
       "      <th>Value</th>\n",
       "      <th>S</th>\n",
       "      <th>K</th>\n",
       "      <th>tau</th>\n",
       "      <th>r</th>\n",
       "      <th>BS_binary</th>\n",
       "    </tr>\n",
       "  </thead>\n",
       "  <tbody>\n",
       "    <tr>\n",
       "      <th>0</th>\n",
       "      <td>21.670404</td>\n",
       "      <td>431.623898</td>\n",
       "      <td>420</td>\n",
       "      <td>0.341270</td>\n",
       "      <td>0.03013</td>\n",
       "      <td>0</td>\n",
       "    </tr>\n",
       "    <tr>\n",
       "      <th>1</th>\n",
       "      <td>0.125000</td>\n",
       "      <td>427.015526</td>\n",
       "      <td>465</td>\n",
       "      <td>0.166667</td>\n",
       "      <td>0.03126</td>\n",
       "      <td>1</td>\n",
       "    </tr>\n",
       "    <tr>\n",
       "      <th>2</th>\n",
       "      <td>20.691244</td>\n",
       "      <td>427.762336</td>\n",
       "      <td>415</td>\n",
       "      <td>0.265873</td>\n",
       "      <td>0.03116</td>\n",
       "      <td>0</td>\n",
       "    </tr>\n",
       "    <tr>\n",
       "      <th>3</th>\n",
       "      <td>1.035002</td>\n",
       "      <td>451.711658</td>\n",
       "      <td>460</td>\n",
       "      <td>0.063492</td>\n",
       "      <td>0.02972</td>\n",
       "      <td>1</td>\n",
       "    </tr>\n",
       "    <tr>\n",
       "      <th>4</th>\n",
       "      <td>39.553020</td>\n",
       "      <td>446.718974</td>\n",
       "      <td>410</td>\n",
       "      <td>0.166667</td>\n",
       "      <td>0.02962</td>\n",
       "      <td>0</td>\n",
       "    </tr>\n",
       "  </tbody>\n",
       "</table>\n",
       "</div>"
      ],
      "text/plain": [
       "       Value           S    K       tau        r  BS_binary\n",
       "0  21.670404  431.623898  420  0.341270  0.03013          0\n",
       "1   0.125000  427.015526  465  0.166667  0.03126          1\n",
       "2  20.691244  427.762336  415  0.265873  0.03116          0\n",
       "3   1.035002  451.711658  460  0.063492  0.02972          1\n",
       "4  39.553020  446.718974  410  0.166667  0.02962          0"
      ]
     },
     "execution_count": 89,
     "metadata": {},
     "output_type": "execute_result"
    }
   ],
   "source": [
    "train.head()"
   ]
  },
  {
   "cell_type": "code",
   "execution_count": 90,
   "metadata": {
    "ExecuteTime": {
     "end_time": "2021-04-09T16:25:31.510712Z",
     "start_time": "2021-04-09T16:25:31.507070Z"
    }
   },
   "outputs": [],
   "source": [
    "X_train = train.iloc[:,1:5]\n",
    "y_train = train.iloc[:,5]"
   ]
  },
  {
   "cell_type": "markdown",
   "metadata": {},
   "source": [
    "### Logistic Regression"
   ]
  },
  {
   "cell_type": "code",
   "execution_count": 96,
   "metadata": {
    "ExecuteTime": {
     "end_time": "2021-04-05T07:02:15.894608Z",
     "start_time": "2021-04-05T07:02:15.849828Z"
    }
   },
   "outputs": [],
   "source": [
    "lr_r1 = LogisticRegression().fit(X_train,y_train)"
   ]
  },
  {
   "cell_type": "code",
   "execution_count": 97,
   "metadata": {
    "ExecuteTime": {
     "end_time": "2021-04-05T07:02:17.083183Z",
     "start_time": "2021-04-05T07:02:16.889518Z"
    }
   },
   "outputs": [
    {
     "data": {
      "text/plain": [
       "array([0.92261905, 0.9047619 , 0.91666667, 0.89880952, 0.89880952,\n",
       "       0.89880952, 0.9047619 , 0.91666667, 0.89880952, 0.91071429])"
      ]
     },
     "execution_count": 97,
     "metadata": {},
     "output_type": "execute_result"
    }
   ],
   "source": [
    "## scoring is accuracy, can also try ROCAUC\n",
    "## by default, cross_val_score does not shuffle data, need to specify how we want to divide the folds if we want shuffled\n",
    "## in this case kfolds is the definded shuffle way \n",
    "kfolds = StratifiedKFold(n_splits = 10,random_state = 1, shuffle  = True)\n",
    "## a random state is set for reproducibility purpose\n",
    "error_lr_r1_cv = cross_val_score(lr_r1,X_train,y_train,cv = 10, scoring = 'accuracy' )\n",
    "error_lr_r1_cv "
   ]
  },
  {
   "cell_type": "code",
   "execution_count": 98,
   "metadata": {
    "ExecuteTime": {
     "end_time": "2021-04-05T07:02:18.632411Z",
     "start_time": "2021-04-05T07:02:18.629189Z"
    }
   },
   "outputs": [
    {
     "data": {
      "text/plain": [
       "Index(['Value', 'S', 'K', 'tau', 'r', 'BS_binary'], dtype='object')"
      ]
     },
     "execution_count": 98,
     "metadata": {},
     "output_type": "execute_result"
    }
   ],
   "source": [
    "train.columns"
   ]
  },
  {
   "cell_type": "markdown",
   "metadata": {},
   "source": [
    "### Naive Bayes"
   ]
  },
  {
   "cell_type": "code",
   "execution_count": 92,
   "metadata": {
    "ExecuteTime": {
     "end_time": "2021-04-09T16:26:14.204304Z",
     "start_time": "2021-04-09T16:26:14.182980Z"
    }
   },
   "outputs": [],
   "source": [
    "model_nb = GaussianNB()\n",
    "X_train, X_test, y_train, y_test = train_test_split(X, y, test_size = 0.2, random_state = 1)"
   ]
  },
  {
   "cell_type": "code",
   "execution_count": 93,
   "metadata": {
    "ExecuteTime": {
     "end_time": "2021-04-09T16:26:16.061659Z",
     "start_time": "2021-04-09T16:26:16.045353Z"
    }
   },
   "outputs": [],
   "source": [
    "model_nb.fit(X_train, y_train)\n",
    "y_pred = model_nb.predict(X_test)\n",
    "y_pred_proba_nb = model_nb.predict_proba(X_test)[:, 1]"
   ]
  },
  {
   "cell_type": "code",
   "execution_count": 94,
   "metadata": {
    "ExecuteTime": {
     "end_time": "2021-04-09T16:26:18.122260Z",
     "start_time": "2021-04-09T16:26:18.115521Z"
    }
   },
   "outputs": [
    {
     "name": "stdout",
     "output_type": "stream",
     "text": [
      "Accuracy: 0.9077380952380952\n"
     ]
    }
   ],
   "source": [
    "print(\"Accuracy:\",accuracy_score(y_test, y_pred))"
   ]
  },
  {
   "cell_type": "code",
   "execution_count": 95,
   "metadata": {
    "ExecuteTime": {
     "end_time": "2021-04-09T16:26:20.082188Z",
     "start_time": "2021-04-09T16:26:20.060030Z"
    }
   },
   "outputs": [
    {
     "name": "stdout",
     "output_type": "stream",
     "text": [
      "Train/Test split results:\n",
      "GaussianNB accuracy is 0.908\n",
      "GaussianNB log_loss is 0.271\n",
      "GaussianNB auc is 0.955\n"
     ]
    }
   ],
   "source": [
    "[fpr, tpr, thr] = roc_curve(y_test, y_pred_proba_nb)\n",
    "print('Train/Test split results:')\n",
    "print(model_nb.__class__.__name__+\" accuracy is %2.3f\" % accuracy_score(y_test, y_pred))\n",
    "print(model_nb.__class__.__name__+\" log_loss is %2.3f\" % log_loss(y_test, y_pred_proba_nb))\n",
    "print(model_nb.__class__.__name__+\" auc is %2.3f\" % auc(fpr, tpr))"
   ]
  },
  {
   "cell_type": "code",
   "execution_count": 96,
   "metadata": {
    "ExecuteTime": {
     "end_time": "2021-04-09T16:26:23.350690Z",
     "start_time": "2021-04-09T16:26:23.340321Z"
    }
   },
   "outputs": [
    {
     "name": "stdout",
     "output_type": "stream",
     "text": [
      "Accuracy of Naive Bayes classifier on training set: 0.88\n",
      "Accuracy of Naive Bayes classifier on test set: 0.91\n"
     ]
    }
   ],
   "source": [
    "print('Accuracy of Naive Bayes classifier on training set: {:.2f}'\n",
    "     .format(model_nb.score(X_train, y_train)))\n",
    "print('Accuracy of Naive Bayes classifier on test set: {:.2f}'\n",
    "     .format(model_nb.score(X_test, y_test)))"
   ]
  },
  {
   "cell_type": "code",
   "execution_count": 97,
   "metadata": {
    "ExecuteTime": {
     "end_time": "2021-04-09T16:26:25.679647Z",
     "start_time": "2021-04-09T16:26:25.393407Z"
    }
   },
   "outputs": [
    {
     "data": {
      "image/png": "[encoded data removed]",
      "text/plain": [
       "<Figure size 432x288 with 1 Axes>"
      ]
     },
     "metadata": {
      "needs_background": "light"
     },
     "output_type": "display_data"
    }
   ],
   "source": [
    "idx = np.min(np.where(tpr > 0.95)) # index of the first threshold for which the sensibility > 0.95\n",
    "\n",
    "plt.figure()\n",
    "plt.plot(fpr, tpr, color='coral', label='ROC curve (area = %0.3f)' % auc(fpr, tpr))\n",
    "plt.plot([0, 1], [0, 1], 'k--')\n",
    "plt.plot([0,fpr[idx]], [tpr[idx],tpr[idx]], 'k--', color='blue')\n",
    "plt.plot([fpr[idx],fpr[idx]], [0,tpr[idx]], 'k--', color='blue')\n",
    "plt.xlim([0.0, 1.0])\n",
    "plt.ylim([0.0, 1.05])\n",
    "plt.xlabel('False Positive Rate (1 - specificity)', fontsize=14)\n",
    "plt.ylabel('True Positive Rate (recall)', fontsize=14)\n",
    "plt.title('Receiver operating characteristic (ROC) curve')\n",
    "plt.legend(loc=\"lower right\")\n",
    "plt.show()"
   ]
  },
  {
   "cell_type": "code",
   "execution_count": 98,
   "metadata": {
    "ExecuteTime": {
     "end_time": "2021-04-09T16:26:28.170451Z",
     "start_time": "2021-04-09T16:26:28.166227Z"
    }
   },
   "outputs": [
    {
     "name": "stdout",
     "output_type": "stream",
     "text": [
      "Using a threshold of 0.417 guarantees a sensitivity of 0.956 and a specificity of 0.865, i.e. a false positive rate of 13.50%.\n"
     ]
    }
   ],
   "source": [
    "print(\"Using a threshold of %.3f \" % thr[idx] + \"guarantees a sensitivity of %.3f \" % tpr[idx] +  \n",
    "      \"and a specificity of %.3f\" % (1-fpr[idx]) + \n",
    "      \", i.e. a false positive rate of %.2f%%.\" % (np.array(fpr[idx])*100))"
   ]
  },
  {
   "cell_type": "markdown",
   "metadata": {},
   "source": [
    "### KNN"
   ]
  },
  {
   "cell_type": "code",
   "execution_count": 115,
   "metadata": {
    "ExecuteTime": {
     "end_time": "2021-04-05T07:21:00.491708Z",
     "start_time": "2021-04-05T07:21:00.081458Z"
    }
   },
   "outputs": [
    {
     "name": "stdout",
     "output_type": "stream",
     "text": [
      "Train Accuracy:[0.94345238 0.9327381  0.92797619 0.92797619 0.925      0.92678571]\n",
      "Test Accuracy:[0.9702381  0.94047619 0.92261905 0.92857143 0.92857143 0.92857143]\n"
     ]
    }
   ],
   "source": [
    "from sklearn.neighbors import KNeighborsClassifier\n",
    "\n",
    "#Setup arrays to store training and test accuracies\n",
    "neighbors = np.arange(3,9)\n",
    "train_accuracy =np.empty(len(neighbors))\n",
    "test_accuracy = np.empty(len(neighbors))\n",
    "\n",
    "for i,k in enumerate(neighbors):\n",
    "    #Setup a knn classifier with k neighbors\n",
    "    knn = KNeighborsClassifier(n_neighbors=k)\n",
    "    \n",
    "    #Fit the model\n",
    "    knn.fit(X_train, y_train)\n",
    "    \n",
    "    #Compute accuracy on the training set\n",
    "    train_accuracy[i] = knn.score(X_train, y_train)\n",
    "    \n",
    "    #Compute accuracy on the test set\n",
    "    test_accuracy[i] = knn.score(X_test, y_test) \n",
    "\n",
    "print(f'Train Accuracy:{train_accuracy}')\n",
    "print(f'Test Accuracy:{test_accuracy}')\n"
   ]
  },
  {
   "cell_type": "code",
   "execution_count": 116,
   "metadata": {
    "ExecuteTime": {
     "end_time": "2021-04-05T07:21:02.044597Z",
     "start_time": "2021-04-05T07:21:01.772326Z"
    }
   },
   "outputs": [
    {
     "data": {
      "image/png": "[encoded data removed]",
      "text/plain": [
       "<Figure size 432x288 with 1 Axes>"
      ]
     },
     "metadata": {},
     "output_type": "display_data"
    }
   ],
   "source": [
    "plt.style.use('ggplot')\n",
    "plt.title('k-NN Varying number of neighbors')\n",
    "plt.plot(neighbors, test_accuracy, label='Testing Accuracy')\n",
    "plt.plot(neighbors, train_accuracy, label='Training accuracy')\n",
    "plt.legend()\n",
    "plt.xlabel('Number of neighbors')\n",
    "plt.ylabel('Accuracy')\n",
    "plt.show()"
   ]
  },
  {
   "cell_type": "markdown",
   "metadata": {},
   "source": [
    "We can observe above that we get maximum testing accuracy for k= 3. So lets create a KNeighborsClassifier with number of neighbors as 3."
   ]
  },
  {
   "cell_type": "code",
   "execution_count": 129,
   "metadata": {
    "ExecuteTime": {
     "end_time": "2021-04-05T07:23:17.631307Z",
     "start_time": "2021-04-05T07:23:17.611461Z"
    }
   },
   "outputs": [
    {
     "data": {
      "text/plain": [
       "0.9702380952380952"
      ]
     },
     "execution_count": 129,
     "metadata": {},
     "output_type": "execute_result"
    }
   ],
   "source": [
    "#Setup a knn classifier with k neighbors\n",
    "knn = KNeighborsClassifier(n_neighbors=3)\n",
    "knn.fit(X_train,y_train)\n",
    "#Get accuracy. \n",
    "knn.score(X_test,y_test)"
   ]
  },
  {
   "cell_type": "code",
   "execution_count": 130,
   "metadata": {
    "ExecuteTime": {
     "end_time": "2021-04-05T07:23:19.551980Z",
     "start_time": "2021-04-05T07:23:19.539512Z"
    }
   },
   "outputs": [
    {
     "data": {
      "text/plain": [
       "array([[92,  2],\n",
       "       [ 3, 71]])"
      ]
     },
     "execution_count": 130,
     "metadata": {},
     "output_type": "execute_result"
    }
   ],
   "source": [
    "#import confusion_matrix\n",
    "from sklearn.metrics import confusion_matrix\n",
    "\n",
    "#let us get the predictions using the classifier we had fit above\n",
    "y_pred = knn.predict(X_test)\n",
    "confusion_matrix(y_test,y_pred)"
   ]
  },
  {
   "cell_type": "code",
   "execution_count": 119,
   "metadata": {
    "ExecuteTime": {
     "end_time": "2021-04-05T07:21:39.718771Z",
     "start_time": "2021-04-05T07:21:39.595423Z"
    }
   },
   "outputs": [
    {
     "data": {
      "text/html": [
       "<div>\n",
       "<style scoped>\n",
       "    .dataframe tbody tr th:only-of-type {\n",
       "        vertical-align: middle;\n",
       "    }\n",
       "\n",
       "    .dataframe tbody tr th {\n",
       "        vertical-align: top;\n",
       "    }\n",
       "\n",
       "    .dataframe thead th {\n",
       "        text-align: right;\n",
       "    }\n",
       "</style>\n",
       "<table border=\"1\" class=\"dataframe\">\n",
       "  <thead>\n",
       "    <tr style=\"text-align: right;\">\n",
       "      <th>Predicted</th>\n",
       "      <th>0</th>\n",
       "      <th>1</th>\n",
       "      <th>All</th>\n",
       "    </tr>\n",
       "    <tr>\n",
       "      <th>True</th>\n",
       "      <th></th>\n",
       "      <th></th>\n",
       "      <th></th>\n",
       "    </tr>\n",
       "  </thead>\n",
       "  <tbody>\n",
       "    <tr>\n",
       "      <th>0</th>\n",
       "      <td>92</td>\n",
       "      <td>2</td>\n",
       "      <td>94</td>\n",
       "    </tr>\n",
       "    <tr>\n",
       "      <th>1</th>\n",
       "      <td>3</td>\n",
       "      <td>71</td>\n",
       "      <td>74</td>\n",
       "    </tr>\n",
       "    <tr>\n",
       "      <th>All</th>\n",
       "      <td>95</td>\n",
       "      <td>73</td>\n",
       "      <td>168</td>\n",
       "    </tr>\n",
       "  </tbody>\n",
       "</table>\n",
       "</div>"
      ],
      "text/plain": [
       "Predicted   0   1  All\n",
       "True                  \n",
       "0          92   2   94\n",
       "1           3  71   74\n",
       "All        95  73  168"
      ]
     },
     "execution_count": 119,
     "metadata": {},
     "output_type": "execute_result"
    }
   ],
   "source": [
    "pd.crosstab(y_test, y_pred, rownames=['True'], colnames=['Predicted'], margins=True)"
   ]
  },
  {
   "cell_type": "code",
   "execution_count": 120,
   "metadata": {
    "ExecuteTime": {
     "end_time": "2021-04-05T07:21:43.582714Z",
     "start_time": "2021-04-05T07:21:43.574255Z"
    }
   },
   "outputs": [
    {
     "name": "stdout",
     "output_type": "stream",
     "text": [
      "              precision    recall  f1-score   support\n",
      "\n",
      "           0       0.97      0.98      0.97        94\n",
      "           1       0.97      0.96      0.97        74\n",
      "\n",
      "    accuracy                           0.97       168\n",
      "   macro avg       0.97      0.97      0.97       168\n",
      "weighted avg       0.97      0.97      0.97       168\n",
      "\n"
     ]
    }
   ],
   "source": [
    "from sklearn.metrics import classification_report\n",
    "print(classification_report(y_test,y_pred))"
   ]
  },
  {
   "cell_type": "code",
   "execution_count": 122,
   "metadata": {
    "ExecuteTime": {
     "end_time": "2021-04-05T07:22:10.513652Z",
     "start_time": "2021-04-05T07:22:05.278763Z"
    }
   },
   "outputs": [
    {
     "data": {
      "text/plain": [
       "GridSearchCV(cv=10, estimator=KNeighborsClassifier(),\n",
       "             param_grid={'n_neighbors': array([ 1,  2,  3,  4,  5,  6,  7,  8,  9, 10, 11, 12, 13, 14, 15, 16, 17,\n",
       "       18, 19, 20, 21, 22, 23, 24, 25, 26, 27, 28, 29, 30, 31, 32, 33, 34,\n",
       "       35, 36, 37, 38, 39, 40, 41, 42, 43, 44, 45, 46, 47, 48, 49])})"
      ]
     },
     "execution_count": 122,
     "metadata": {},
     "output_type": "execute_result"
    }
   ],
   "source": [
    "## try to use GridSearchCV to determin K \n",
    "\n",
    "#import GridSearchCV\n",
    "from sklearn.model_selection import GridSearchCV\n",
    "\n",
    "#In case of classifier like knn the parameter to be tuned is n_neighbors\n",
    "param_grid = {'n_neighbors':np.arange(1,50)}\n",
    "\n",
    "knn = KNeighborsClassifier()\n",
    "knn_cv= GridSearchCV(knn,param_grid,cv=10)\n",
    "knn_cv.fit(X_train,y_train)"
   ]
  },
  {
   "cell_type": "code",
   "execution_count": 123,
   "metadata": {
    "ExecuteTime": {
     "end_time": "2021-04-05T07:22:10.874181Z",
     "start_time": "2021-04-05T07:22:10.870924Z"
    }
   },
   "outputs": [
    {
     "data": {
      "text/plain": [
       "0.9136904761904763"
      ]
     },
     "execution_count": 123,
     "metadata": {},
     "output_type": "execute_result"
    }
   ],
   "source": [
    "knn_cv.best_score_"
   ]
  },
  {
   "cell_type": "code",
   "execution_count": 124,
   "metadata": {
    "ExecuteTime": {
     "end_time": "2021-04-05T07:22:11.233643Z",
     "start_time": "2021-04-05T07:22:11.229388Z"
    }
   },
   "outputs": [
    {
     "data": {
      "text/plain": [
       "{'n_neighbors': 46}"
      ]
     },
     "execution_count": 124,
     "metadata": {},
     "output_type": "execute_result"
    }
   ],
   "source": [
    "knn_cv.best_params_"
   ]
  },
  {
   "cell_type": "markdown",
   "metadata": {},
   "source": [
    "Thus a knn classifier with number of neighbors as 31 achieves the best score/accuracy of 0.93333 i.e about 93%"
   ]
  },
  {
   "cell_type": "markdown",
   "metadata": {},
   "source": [
    "### SVM"
   ]
  },
  {
   "cell_type": "code",
   "execution_count": 145,
   "metadata": {
    "ExecuteTime": {
     "end_time": "2021-04-05T07:43:35.043307Z",
     "start_time": "2021-04-05T07:43:35.037236Z"
    }
   },
   "outputs": [],
   "source": [
    "#https://www.kaggle.com/prashant111/svm-classifier-tutorial\n",
    "##In the context of SVMs, there are 4 popular kernels \n",
    "##– Linear kernel,Polynomial kernel,\n",
    "##Radial Basis Function (RBF) kernel (also called Gaussian kernel) and Sigmoid kernel. \n",
    "\n",
    "from sklearn.preprocessing import StandardScaler\n",
    "scaler = StandardScaler()\n",
    "scaler.fit(X_train)\n",
    "X = scaler.transform(X_train)"
   ]
  },
  {
   "cell_type": "code",
   "execution_count": 146,
   "metadata": {
    "ExecuteTime": {
     "end_time": "2021-04-05T07:50:34.253434Z",
     "start_time": "2021-04-05T07:50:34.073858Z"
    }
   },
   "outputs": [
    {
     "name": "stdout",
     "output_type": "stream",
     "text": [
      "Model accuracy score with default hyperparameters: 0.9107\n"
     ]
    }
   ],
   "source": [
    "from sklearn.svm import SVC\n",
    "from sklearn.metrics import accuracy_score\n",
    "\n",
    "# instantiate classifier with default hyperparameters\n",
    "svc=SVC(gamma = 'auto') \n",
    "\n",
    "# fit classifier to training set\n",
    "svc.fit(X_train,y_train)\n",
    "\n",
    "# make predictions on test set\n",
    "y_pred=svc.predict(X_test)\n",
    "\n",
    "# compute and print accuracy score\n",
    "print('Model accuracy score with default hyperparameters: {0:0.4f}'. format(accuracy_score(y_test, y_pred)))"
   ]
  },
  {
   "cell_type": "code",
   "execution_count": 147,
   "metadata": {
    "ExecuteTime": {
     "end_time": "2021-04-05T07:50:38.564821Z",
     "start_time": "2021-04-05T07:50:38.449912Z"
    }
   },
   "outputs": [
    {
     "name": "stdout",
     "output_type": "stream",
     "text": [
      "Model accuracy score with  linear kernel and C = 1.0 : 0.9286\n"
     ]
    }
   ],
   "source": [
    "#Default Linear kernel\n",
    "\n",
    "svc=SVC(kernel='linear', C= 1.0)\n",
    "svc.fit(X_train,y_train)\n",
    "y_pred=svc.predict(X_test)\n",
    "print('Model accuracy score with  linear kernel and C = 1.0 : {0:0.4f}'. format(accuracy_score(y_test, y_pred)))\n"
   ]
  },
  {
   "cell_type": "code",
   "execution_count": 148,
   "metadata": {
    "ExecuteTime": {
     "end_time": "2021-04-05T07:50:40.536493Z",
     "start_time": "2021-04-05T07:50:40.266692Z"
    }
   },
   "outputs": [
    {
     "name": "stdout",
     "output_type": "stream",
     "text": [
      "Model accuracy score with linear kernel and C = 100.0: 0.9226\n"
     ]
    }
   ],
   "source": [
    "svc=SVC(kernel='linear', C= 100.0)\n",
    "svc.fit(X_train,y_train)\n",
    "y_pred=svc.predict(X_test)\n",
    "print('Model accuracy score with linear kernel and C = 100.0: {0:0.4f}'. format(accuracy_score(y_test, y_pred)))\n"
   ]
  },
  {
   "cell_type": "code",
   "execution_count": 149,
   "metadata": {
    "ExecuteTime": {
     "end_time": "2021-04-05T07:50:43.231983Z",
     "start_time": "2021-04-05T07:50:42.944436Z"
    }
   },
   "outputs": [
    {
     "name": "stdout",
     "output_type": "stream",
     "text": [
      "Model accuracy score with linear kernel and C = 1000.0: 0.9226\n"
     ]
    }
   ],
   "source": [
    "svc=SVC(kernel='linear', C= 1000.0)\n",
    "svc.fit(X_train,y_train)\n",
    "y_pred=svc.predict(X_test)\n",
    "print('Model accuracy score with linear kernel and C = 1000.0: {0:0.4f}'. format(accuracy_score(y_test, y_pred)))\n"
   ]
  },
  {
   "cell_type": "code",
   "execution_count": 150,
   "metadata": {
    "ExecuteTime": {
     "end_time": "2021-04-05T07:50:44.815420Z",
     "start_time": "2021-04-05T07:50:44.688319Z"
    }
   },
   "outputs": [
    {
     "name": "stdout",
     "output_type": "stream",
     "text": [
      "Model accuracy score with default rbf kernel: 0.9107\n"
     ]
    }
   ],
   "source": [
    "#Default RBF kernel\n",
    "\n",
    "svc=SVC(kernel='rbf', gamma = 'auto')\n",
    "svc.fit(X_train,y_train)\n",
    "y_pred=svc.predict(X_test)\n",
    "print('Model accuracy score with default rbf kernel: {0:0.4f}'. format(accuracy_score(y_test, y_pred)))"
   ]
  },
  {
   "cell_type": "code",
   "execution_count": 151,
   "metadata": {
    "ExecuteTime": {
     "end_time": "2021-04-05T07:50:47.374440Z",
     "start_time": "2021-04-05T07:50:47.209320Z"
    }
   },
   "outputs": [
    {
     "name": "stdout",
     "output_type": "stream",
     "text": [
      "Model accuracy score with rbf kernel and C=100.0 : 0.9643\n"
     ]
    }
   ],
   "source": [
    "# instantiate classifier with rbf kernel and C=100\n",
    "svc=SVC(kernel='rbf', C=100.0, gamma = 'auto') \n",
    "\n",
    "# fit classifier to training set\n",
    "svc.fit(X_train,y_train)\n",
    "\n",
    "# make predictions on test set\n",
    "y_pred=svc.predict(X_test)\n",
    "\n",
    "# compute and print accuracy score\n",
    "print('Model accuracy score with rbf kernel and C=100.0 : {0:0.4f}'. format(accuracy_score(y_test, y_pred)))"
   ]
  },
  {
   "cell_type": "code",
   "execution_count": 152,
   "metadata": {
    "ExecuteTime": {
     "end_time": "2021-04-05T07:50:50.890640Z",
     "start_time": "2021-04-05T07:50:50.623785Z"
    }
   },
   "outputs": [
    {
     "name": "stdout",
     "output_type": "stream",
     "text": [
      "Model accuracy score with rbf kernel and C=1000.0 : 0.9702\n"
     ]
    }
   ],
   "source": [
    "# instantiate classifier with rbf kernel and C=1000\n",
    "svc=SVC(kernel='rbf', C=1000.0, gamma = 'auto') \n",
    "\n",
    "# fit classifier to training set\n",
    "svc.fit(X_train,y_train)\n",
    "\n",
    "# make predictions on test set\n",
    "y_pred=svc.predict(X_test)\n",
    "\n",
    "# compute and print accuracy score\n",
    "print('Model accuracy score with rbf kernel and C=1000.0 : {0:0.4f}'. format(accuracy_score(y_test, y_pred)))"
   ]
  },
  {
   "cell_type": "code",
   "execution_count": null,
   "metadata": {
    "ExecuteTime": {
     "start_time": "2021-04-05T07:50:52.745Z"
    }
   },
   "outputs": [],
   "source": [
    "#Default Polynomial kernel\n",
    "\n",
    "svc=SVC(kernel='poly', C = 1.0, gamma = 'auto')\n",
    "svc.fit(X_train,y_train)\n",
    "y_pred=svc.predict(X_test)\n",
    "print('Model accuracy score with default Polynomial kernel : {0:0.4f}'. format(accuracy_score(y_test, y_pred)))"
   ]
  },
  {
   "cell_type": "code",
   "execution_count": null,
   "metadata": {
    "ExecuteTime": {
     "start_time": "2021-04-05T07:50:54.952Z"
    }
   },
   "outputs": [],
   "source": [
    "svc=SVC(kernel='poly', C = 100.0, gamma = 'auto')\n",
    "svc.fit(X_train,y_train)\n",
    "y_pred=svc.predict(X_test)\n",
    "print('Model accuracy score with Polynomial kernel and C = 100.0 : {0:0.4f}'. format(accuracy_score(y_test, y_pred)))"
   ]
  },
  {
   "cell_type": "code",
   "execution_count": null,
   "metadata": {
    "ExecuteTime": {
     "start_time": "2021-04-05T07:50:56.837Z"
    }
   },
   "outputs": [],
   "source": [
    "y_pred_train = svc.predict(X_train)\n",
    "\n",
    "y_pred_train"
   ]
  },
  {
   "cell_type": "code",
   "execution_count": null,
   "metadata": {
    "ExecuteTime": {
     "start_time": "2021-04-05T07:50:58.574Z"
    }
   },
   "outputs": [],
   "source": [
    "print('Training-set accuracy score: {0:0.4f}'. format(accuracy_score(y_train, y_pred_train)))"
   ]
  },
  {
   "cell_type": "code",
   "execution_count": null,
   "metadata": {
    "ExecuteTime": {
     "start_time": "2021-04-05T07:51:00.304Z"
    }
   },
   "outputs": [],
   "source": [
    "# print the scores on training and test set\n",
    "\n",
    "print('Training set score: {:.4f}'.format(svc.score(X_train, y_train)))\n",
    "\n",
    "print('Test set score: {:.4f}'.format(svc.score(X_test, y_test)))"
   ]
  },
  {
   "cell_type": "markdown",
   "metadata": {},
   "source": [
    "The training-set accuracy score is 0.9325 while the test-set accuracy to be 0.9345. These two values are quite comparable. So, there's no question of overfitting."
   ]
  },
  {
   "cell_type": "markdown",
   "metadata": {},
   "source": [
    "### Random Forest"
   ]
  },
  {
   "cell_type": "code",
   "execution_count": 99,
   "metadata": {
    "ExecuteTime": {
     "end_time": "2021-04-05T07:02:20.588446Z",
     "start_time": "2021-04-05T07:02:20.349747Z"
    }
   },
   "outputs": [],
   "source": [
    "rfc_r1 = RandomForestClassifier().fit(X_train,y_train)"
   ]
  },
  {
   "cell_type": "code",
   "execution_count": 100,
   "metadata": {
    "ExecuteTime": {
     "end_time": "2021-04-05T07:02:21.396831Z",
     "start_time": "2021-04-05T07:02:21.373540Z"
    }
   },
   "outputs": [],
   "source": [
    "y_score_r1_rfc  = rfc_r1.predict_proba(test)[:,1]"
   ]
  },
  {
   "cell_type": "markdown",
   "metadata": {},
   "source": [
    "### Decision Tree"
   ]
  },
  {
   "cell_type": "code",
   "execution_count": 101,
   "metadata": {
    "ExecuteTime": {
     "end_time": "2021-04-05T07:02:23.093473Z",
     "start_time": "2021-04-05T07:02:23.089083Z"
    }
   },
   "outputs": [],
   "source": [
    "#https://www.kaggle.com/dmilla/introduction-to-decision-trees-titanic-dataset\n",
    "## using Gini impurity to evaluate splits\n",
    "##Gini Impurity measures the disorder of a set of elements. \n",
    "## It is calculated as the probability of mislabelling an element assuming that the element is randomly labelled according the the distribution of all the classes in the set. \n",
    "## Decision Trees will try to find the split which decreases Gini Impurity the most across the two resulting nodes. \n",
    "\n",
    "# Define function to calculate Gini Impurity\n",
    "def get_gini_impurity(true_count, total_count):\n",
    "    true_prob = true_count/total_count\n",
    "    false_prob = (1 - true_prob)\n",
    "    random_observation_true_prob = true_prob\n",
    "    random_observation_false_prob = (1 - random_observation_true_prob)\n",
    "    mislabelling_true_prob = false_prob * random_observation_true_prob\n",
    "    mislabelling_false_prob = true_prob * random_observation_false_prob\n",
    "    gini_impurity = mislabelling_true_prob + mislabelling_false_prob\n",
    "    return gini_impurity"
   ]
  },
  {
   "cell_type": "code",
   "execution_count": 102,
   "metadata": {
    "ExecuteTime": {
     "end_time": "2021-04-05T07:02:24.861767Z",
     "start_time": "2021-04-05T07:02:24.858011Z"
    }
   },
   "outputs": [
    {
     "data": {
      "text/plain": [
       "(1680, 4)"
      ]
     },
     "execution_count": 102,
     "metadata": {},
     "output_type": "execute_result"
    }
   ],
   "source": [
    "X_train.shape"
   ]
  },
  {
   "cell_type": "code",
   "execution_count": 103,
   "metadata": {
    "ExecuteTime": {
     "end_time": "2021-04-05T07:02:26.123812Z",
     "start_time": "2021-04-05T07:02:26.119782Z"
    }
   },
   "outputs": [
    {
     "data": {
      "text/plain": [
       "734"
      ]
     },
     "execution_count": 103,
     "metadata": {},
     "output_type": "execute_result"
    }
   ],
   "source": [
    "(y_train ==1).sum()"
   ]
  },
  {
   "cell_type": "code",
   "execution_count": 104,
   "metadata": {
    "ExecuteTime": {
     "end_time": "2021-04-05T07:02:27.695362Z",
     "start_time": "2021-04-05T07:02:27.691854Z"
    }
   },
   "outputs": [
    {
     "data": {
      "text/plain": [
       "0.49203798185941044"
      ]
     },
     "execution_count": 104,
     "metadata": {},
     "output_type": "execute_result"
    }
   ],
   "source": [
    "## Gini Impurity of starting node\n",
    "gini_impurity_starting_node = get_gini_impurity(734, 1680)\n",
    "gini_impurity_starting_node"
   ]
  },
  {
   "cell_type": "code",
   "execution_count": 105,
   "metadata": {
    "ExecuteTime": {
     "end_time": "2021-04-05T07:02:28.757966Z",
     "start_time": "2021-04-05T07:02:28.754069Z"
    }
   },
   "outputs": [
    {
     "data": {
      "text/plain": [
       "Index(['Value', 'S', 'K', 'tau', 'r', 'BS_binary'], dtype='object')"
      ]
     },
     "execution_count": 105,
     "metadata": {},
     "output_type": "execute_result"
    }
   ],
   "source": [
    "train.columns"
   ]
  },
  {
   "cell_type": "code",
   "execution_count": 106,
   "metadata": {
    "ExecuteTime": {
     "end_time": "2021-04-05T07:02:32.409164Z",
     "start_time": "2021-04-05T07:02:32.107914Z"
    },
    "scrolled": true
   },
   "outputs": [
    {
     "name": "stdout",
     "output_type": "stream",
     "text": [
      "Current max depth:  1 \n",
      "\n",
      "Accuracy per fold:  [0.9285714285714286, 0.9345238095238095, 0.9226190476190477, 0.9047619047619048, 0.9404761904761905, 0.8988095238095238, 0.9047619047619048, 0.8988095238095238, 0.9107142857142857, 0.8988095238095238] \n",
      "\n",
      "Average accuracy:  0.9142857142857143\n",
      "\n",
      "\n",
      "Current max depth:  2 \n",
      "\n",
      "Accuracy per fold:  [0.9226190476190477, 0.9226190476190477, 0.9107142857142857, 0.9166666666666666, 0.9285714285714286, 0.8988095238095238, 0.9047619047619048, 0.8809523809523809, 0.9107142857142857, 0.8988095238095238] \n",
      "\n",
      "Average accuracy:  0.9095238095238096\n",
      "\n",
      "\n",
      "Current max depth:  3 \n",
      "\n",
      "Accuracy per fold:  [0.9345238095238095, 0.9285714285714286, 0.9166666666666666, 0.9226190476190477, 0.9345238095238095, 0.9047619047619048, 0.9285714285714286, 0.8988095238095238, 0.9166666666666666, 0.8928571428571429] \n",
      "\n",
      "Average accuracy:  0.9178571428571429\n",
      "\n",
      "\n",
      "Current max depth:  4 \n",
      "\n",
      "Accuracy per fold:  [0.9166666666666666, 0.9166666666666666, 0.9285714285714286, 0.9226190476190477, 0.9285714285714286, 0.9107142857142857, 0.9107142857142857, 0.8988095238095238, 0.8928571428571429, 0.8928571428571429] \n",
      "\n",
      "Average accuracy:  0.9119047619047619\n",
      "\n",
      "\n",
      " Max Depth  Average Accuracy\n",
      "         1          0.914286\n",
      "         2          0.909524\n",
      "         3          0.917857\n",
      "         4          0.911905\n"
     ]
    }
   ],
   "source": [
    "cv = KFold(n_splits=10)            # Desired number of Cross Validation folds\n",
    "accuracies = list()\n",
    "max_attributes = len(list(test)) ## the number of attributes, in this project, 4\n",
    "depth_range = range(1, max_attributes + 1)\n",
    "\n",
    "# Testing max_depths from 1 to max attributes\n",
    "# Uncomment prints for details about each Cross Validation pass\n",
    "for depth in depth_range:\n",
    "    fold_accuracy = []\n",
    "    tree_model = DecisionTreeClassifier(max_depth = depth)\n",
    "    print(\"Current max depth: \", depth, \"\\n\")\n",
    "    for train_fold, valid_fold in cv.split(train):\n",
    "        f_train = train.loc[train_fold] # Extract train data with cv indices\n",
    "        f_valid = train.loc[valid_fold] # Extract valid data with cv indices\n",
    "\n",
    "        model = tree_model.fit(X = f_train.drop(['BS_binary'], axis=1), \n",
    "                               y = f_train['BS_binary']) # We fit the model with the fold train data\n",
    "        valid_acc = model.score(X = f_valid.drop(['BS_binary'], axis=1), \n",
    "                                y = f_valid[\"BS_binary\"])# We calculate accuracy with the fold validation data\n",
    "        fold_accuracy.append(valid_acc)\n",
    "\n",
    "    avg = sum(fold_accuracy)/len(fold_accuracy)\n",
    "    accuracies.append(avg)\n",
    "    print(\"Accuracy per fold: \", fold_accuracy, \"\\n\")\n",
    "    print(\"Average accuracy: \", avg)\n",
    "    print(\"\\n\")\n",
    "    \n",
    "# Just to show results conveniently\n",
    "df = pd.DataFrame({\"Max Depth\": depth_range, \"Average Accuracy\": accuracies})\n",
    "df = df[[\"Max Depth\", \"Average Accuracy\"]]\n",
    "print(df.to_string(index=False))"
   ]
  },
  {
   "cell_type": "code",
   "execution_count": 108,
   "metadata": {
    "ExecuteTime": {
     "end_time": "2021-04-05T07:07:39.789199Z",
     "start_time": "2021-04-05T07:07:39.778601Z"
    }
   },
   "outputs": [],
   "source": [
    "\n",
    "# Create Decision Tree with max_depth = 3\n",
    "decision_tree = DecisionTreeClassifier(max_depth = 3)\n",
    "decision_tree.fit(X_train, y_train)\n",
    "\n",
    "# Predicting results for test dataset\n",
    "y_pred = decision_tree.predict(X_test)\n"
   ]
  },
  {
   "cell_type": "markdown",
   "metadata": {},
   "source": [
    "### XGboost"
   ]
  },
  {
   "cell_type": "code",
   "execution_count": 103,
   "metadata": {
    "ExecuteTime": {
     "end_time": "2021-04-09T16:30:16.824108Z",
     "start_time": "2021-04-09T16:30:16.582137Z"
    }
   },
   "outputs": [
    {
     "name": "stderr",
     "output_type": "stream",
     "text": [
      "/Users/xinxuegu/opt/anaconda3/lib/python3.8/site-packages/xgboost/sklearn.py:888: UserWarning: The use of label encoder in XGBClassifier is deprecated and will be removed in a future release. To remove this warning, do the following: 1) Pass option use_label_encoder=False when constructing XGBClassifier object; and 2) Encode your labels (y) as integers starting with 0, i.e. 0, 1, 2, ..., [num_class - 1].\n",
      "  warnings.warn(label_encoder_deprecation_msg, UserWarning)\n"
     ]
    },
    {
     "name": "stdout",
     "output_type": "stream",
     "text": [
      "[00:30:16] WARNING: /Users/travis/build/dmlc/xgboost/src/learner.cc:1061: Starting in XGBoost 1.3.0, the default evaluation metric used with the objective 'binary:logistic' was changed from 'error' to 'logloss'. Explicitly set eval_metric if you'd like to restore the old behavior.\n"
     ]
    }
   ],
   "source": [
    "xgb = XGBClassifier(n_estimators=100)\n",
    "xgb.fit(X_train, y_train)\n",
    "model_nb.fit(X_train, y_train)\n",
    "pred_xgb = xgb.predict(X_test)\n",
    "y_pred_proba_xgb = xgb.predict_proba(X_test)[:, 1]\n",
    "\n"
   ]
  },
  {
   "cell_type": "code",
   "execution_count": 104,
   "metadata": {
    "ExecuteTime": {
     "end_time": "2021-04-09T16:30:18.932304Z",
     "start_time": "2021-04-09T16:30:18.924182Z"
    }
   },
   "outputs": [
    {
     "name": "stdout",
     "output_type": "stream",
     "text": [
      "Train/Test split results:\n",
      "XGBClassifier accuracy is 0.946\n",
      "XGBClassifier log_loss is 0.150\n",
      "XGBClassifier auc is 0.991\n"
     ]
    }
   ],
   "source": [
    "[fpr1, tpr1, thr1] = roc_curve(y_test, y_pred_proba_xgb)\n",
    "print('Train/Test split results:')\n",
    "print(xgb.__class__.__name__+\" accuracy is %2.3f\" % accuracy_score(y_test, pred_xgb))\n",
    "print(xgb.__class__.__name__+\" log_loss is %2.3f\" % log_loss(y_test, y_pred_proba_xgb))\n",
    "print(xgb.__class__.__name__+\" auc is %2.3f\" % auc(fpr1, tpr1))"
   ]
  },
  {
   "cell_type": "code",
   "execution_count": 105,
   "metadata": {
    "ExecuteTime": {
     "end_time": "2021-04-09T16:30:21.089198Z",
     "start_time": "2021-04-09T16:30:21.079929Z"
    }
   },
   "outputs": [
    {
     "name": "stdout",
     "output_type": "stream",
     "text": [
      "Accuracy of XGboost classifier on training set: 1.00\n",
      "Accuracy of XGboost classifier on test set: 0.95\n"
     ]
    }
   ],
   "source": [
    "print('Accuracy of XGboost classifier on training set: {:.2f}'\n",
    "     .format(xgb.score(X_train, y_train)))\n",
    "print('Accuracy of XGboost classifier on test set: {:.2f}'\n",
    "     .format(xgb.score(X_test, y_test)))"
   ]
  },
  {
   "cell_type": "code",
   "execution_count": 106,
   "metadata": {
    "ExecuteTime": {
     "end_time": "2021-04-09T16:30:23.439221Z",
     "start_time": "2021-04-09T16:30:23.288384Z"
    }
   },
   "outputs": [
    {
     "data": {
      "image/png": "[encoded data removed]",
      "text/plain": [
       "<Figure size 432x288 with 1 Axes>"
      ]
     },
     "metadata": {
      "needs_background": "light"
     },
     "output_type": "display_data"
    }
   ],
   "source": [
    "idx = np.min(np.where(tpr > 0.95)) # index of the first threshold for which the sensibility > 0.95\n",
    "\n",
    "plt.figure()\n",
    "plt.plot(fpr1, tpr1, color='coral', label='ROC curve (area = %0.3f)' % auc(fpr1, tpr1))\n",
    "plt.plot([0, 1], [0, 1], 'k--')\n",
    "plt.plot([0,fpr1[idx]], [tpr1[idx],tpr1[idx]], 'k--', color='blue')\n",
    "plt.plot([fpr1[idx],fpr1[idx]], [0,tpr1[idx]], 'k--', color='blue')\n",
    "plt.xlim([0.0, 1.0])\n",
    "plt.ylim([0.0, 1.05])\n",
    "plt.xlabel('False Positive Rate (1 - specificity)', fontsize=14)\n",
    "plt.ylabel('True Positive Rate (recall)', fontsize=14)\n",
    "plt.title('Receiver operating characteristic (ROC) curve')\n",
    "plt.legend(loc=\"lower right\")\n",
    "plt.show()"
   ]
  },
  {
   "cell_type": "code",
   "execution_count": 107,
   "metadata": {
    "ExecuteTime": {
     "end_time": "2021-04-09T16:30:25.595738Z",
     "start_time": "2021-04-09T16:30:25.592377Z"
    }
   },
   "outputs": [
    {
     "name": "stdout",
     "output_type": "stream",
     "text": [
      "Using a threshold of 0.000 guarantees a sensitivity of 1.000 and a specificity of 0.445, i.e. a false positive rate of 55.50%.\n"
     ]
    }
   ],
   "source": [
    "print(\"Using a threshold of %.3f \" % thr1[idx] + \"guarantees a sensitivity of %.3f \" % tpr1[idx] +  \n",
    "      \"and a specificity of %.3f\" % (1-fpr1[idx]) + \n",
    "      \", i.e. a false positive rate of %.2f%%.\" % (np.array(fpr1[idx])*100))"
   ]
  },
  {
   "cell_type": "code",
   "execution_count": null,
   "metadata": {},
   "outputs": [],
   "source": [
    "#fangfei"
   ]
  },
  {
   "cell_type": "code",
   "execution_count": null,
   "metadata": {},
   "outputs": [],
   "source": []
  },
  {
   "cell_type": "code",
   "execution_count": null,
   "metadata": {},
   "outputs": [],
   "source": []
  },
  {
   "cell_type": "markdown",
   "metadata": {},
   "source": [
    "## Cross Validation"
   ]
  },
  {
   "cell_type": "markdown",
   "metadata": {},
   "source": [
    "### 10 folds"
   ]
  },
  {
   "cell_type": "code",
   "execution_count": 29,
   "metadata": {
    "ExecuteTime": {
     "end_time": "2021-04-04T16:16:43.772675Z",
     "start_time": "2021-04-04T16:16:43.769436Z"
    }
   },
   "outputs": [],
   "source": [
    "from sklearn.model_selection import KFold  ## for regression\n",
    "from sklearn.model_selection import StratifiedKFold ## recommended for classification\n",
    "from sklearn.model_selection import cross_val_score ## a quick way to do Cross_validation\n",
    "from sklearn.metrics import roc_curve,auc"
   ]
  },
  {
   "cell_type": "code",
   "execution_count": 143,
   "metadata": {
    "ExecuteTime": {
     "end_time": "2021-04-05T07:37:34.613375Z",
     "start_time": "2021-04-05T07:37:34.610605Z"
    }
   },
   "outputs": [],
   "source": [
    "## smf logistic regression model \n",
    "# cv_classification_errors_1 = []\n",
    "# cv_auc_1 = []\n",
    "# for train_index,test_index in kfolds.split(train, train['BS_binary']):\n",
    "#     result = smf.logit('BS_binary ~ S+K+tau+r',data = train,subset= train_index).fit()\n",
    "    \n",
    "#     X_test = train.loc[test_index,['S', 'K', 'tau', 'r']]\n",
    "#     y_test = train.loc[test_index,'BS_binary']\n",
    "    \n",
    "#     result_prob = result.predict(X_test)\n",
    "#     result_pred = (result_prob >0.5)\n",
    "    \n",
    "#     classifiction_error = np.mean(result_pred!=y_test)\n",
    "#     cv_classification_errors_1.append(classifiction_error)\n",
    "    \n",
    "#     fpr,tpr,threshold =roc_curve(y_test,result_prob)\n",
    "    \n",
    "#     roc_auc = auc(fpr,tpr)\n",
    "    \n",
    "#     cv_auc_1.append(roc_auc)\n",
    "    \n",
    "# print('Mean of classification errore using 10-fold CV: {}\\n'\n",
    "#       .format(np.mean(cv_classification_errors_1)))  \n",
    "# print('Mean of auc using 10-fold CV: {}\\n'\n",
    "#       .format(np.mean(cv_auc_1)))"
   ]
  },
  {
   "cell_type": "code",
   "execution_count": 108,
   "metadata": {
    "ExecuteTime": {
     "end_time": "2021-04-09T16:30:50.780143Z",
     "start_time": "2021-04-09T16:30:50.775231Z"
    }
   },
   "outputs": [],
   "source": [
    "## selected sklearn models\n",
    "\n",
    "logistic_model = LogisticRegression(penalty='none',max_iter= 10000)\n",
    "   \n",
    "random_forest = RandomForestClassifier()\n",
    "\n",
    "decision_tree = DecisionTreeClassifier(max_depth = 3)\n",
    "\n",
    "knn3 = KNeighborsClassifier(n_neighbors=3)\n",
    "\n",
    "knn46 = KNeighborsClassifier(n_neighbors=46)\n",
    "\n",
    "svc=SVC(kernel='rbf', C=1000.0, gamma = 'auto') \n",
    "\n",
    "naive_bayes = GaussianNB()\n",
    "\n",
    "xgboost = XGBClassifier(n_estimators=100)\n",
    "\n"
   ]
  },
  {
   "cell_type": "code",
   "execution_count": 38,
   "metadata": {
    "ExecuteTime": {
     "end_time": "2021-04-06T10:08:07.440453Z",
     "start_time": "2021-04-06T10:08:07.426832Z"
    }
   },
   "outputs": [],
   "source": [
    "models_10fold = pd.DataFrame(columns = ['model','classification error'])"
   ]
  },
  {
   "cell_type": "code",
   "execution_count": 122,
   "metadata": {
    "ExecuteTime": {
     "end_time": "2021-04-09T16:34:56.934988Z",
     "start_time": "2021-04-09T16:34:56.932056Z"
    }
   },
   "outputs": [],
   "source": [
    "kfold  = StratifiedKFold(n_splits=10,shuffle=True,random_state=0)"
   ]
  },
  {
   "cell_type": "code",
   "execution_count": 123,
   "metadata": {
    "ExecuteTime": {
     "end_time": "2021-04-09T16:34:59.285798Z",
     "start_time": "2021-04-09T16:34:59.281518Z"
    }
   },
   "outputs": [],
   "source": [
    "def ten_fold_cv(model,n,X,y):\n",
    "    \"\"\"\n",
    "    n is the identifier of model\n",
    "    \"\"\"\n",
    "    score = cross_val_score(model, \n",
    "                                  X,y,\n",
    "                                  cv = kfold,scoring='accuracy')\n",
    "    models_10fold.loc[n,'model'] = str(model)\n",
    "    models_10fold.loc[n,'classification error'] = 1-np.mean(score)\n",
    "    print(f'\\n{model}:\\n')\n",
    "    print('accuracy of 10-folds',score,'\\n(mean classification error:)',1-np.mean(score),')')"
   ]
  },
  {
   "cell_type": "code",
   "execution_count": 101,
   "metadata": {
    "ExecuteTime": {
     "end_time": "2021-04-09T16:27:57.797486Z",
     "start_time": "2021-04-09T16:27:57.789718Z"
    }
   },
   "outputs": [],
   "source": [
    "X =  train[['S', 'K', 'tau', 'r']]\n",
    "y = train['BS_binary']"
   ]
  },
  {
   "cell_type": "code",
   "execution_count": 62,
   "metadata": {
    "ExecuteTime": {
     "end_time": "2021-04-05T01:59:34.667323Z",
     "start_time": "2021-04-05T01:59:34.638043Z"
    }
   },
   "outputs": [],
   "source": [
    "## for now random forest is better"
   ]
  },
  {
   "cell_type": "code",
   "execution_count": 124,
   "metadata": {
    "ExecuteTime": {
     "end_time": "2021-04-09T16:35:07.434553Z",
     "start_time": "2021-04-09T16:35:01.355707Z"
    }
   },
   "outputs": [
    {
     "name": "stdout",
     "output_type": "stream",
     "text": [
      "\n",
      "LogisticRegression(max_iter=10000, penalty='none'):\n",
      "\n",
      "accuracy of 10-folds [0.94642857 0.92857143 0.92261905 0.875      0.92261905 0.91666667\n",
      " 0.88095238 0.89880952 0.88690476 0.9047619 ] \n",
      "(mean classification error:) 0.09166666666666679 )\n",
      "\n",
      "GaussianNB():\n",
      "\n",
      "accuracy of 10-folds [0.92857143 0.9047619  0.88690476 0.82142857 0.91071429 0.88690476\n",
      " 0.86309524 0.85714286 0.875      0.875     ] \n",
      "(mean classification error:) 0.11904761904761896 )\n",
      "\n",
      "RandomForestClassifier():\n",
      "\n",
      "accuracy of 10-folds [0.95238095 0.95238095 0.94047619 0.88690476 0.95833333 0.94047619\n",
      " 0.86904762 0.94047619 0.9047619  0.92857143] \n",
      "(mean classification error:) 0.07261904761904758 )\n",
      "\n",
      "DecisionTreeClassifier(max_depth=3):\n",
      "\n",
      "accuracy of 10-folds [0.95833333 0.9047619  0.92261905 0.875      0.93452381 0.91666667\n",
      " 0.86309524 0.89285714 0.9047619  0.89285714] \n",
      "(mean classification error:) 0.09345238095238106 )\n",
      "\n",
      "KNeighborsClassifier(n_neighbors=3):\n",
      "\n",
      "accuracy of 10-folds [0.94047619 0.89880952 0.88690476 0.875      0.92261905 0.86904762\n",
      " 0.86904762 0.89285714 0.88690476 0.9047619 ] \n",
      "(mean classification error:) 0.1053571428571427 )\n",
      "\n",
      "KNeighborsClassifier(n_neighbors=46):\n",
      "\n",
      "accuracy of 10-folds [0.95833333 0.92857143 0.93452381 0.85714286 0.94047619 0.89880952\n",
      " 0.88095238 0.91071429 0.88690476 0.92261905] \n",
      "(mean classification error:) 0.08809523809523812 )\n",
      "\n",
      "SVC(C=1000.0, gamma='auto'):\n",
      "\n",
      "accuracy of 10-folds [0.93452381 0.91071429 0.89880952 0.875      0.91666667 0.89285714\n",
      " 0.875      0.89285714 0.88690476 0.92261905] \n",
      "(mean classification error:) 0.099404761904762 )\n",
      "[00:35:05] WARNING: /Users/travis/build/dmlc/xgboost/src/learner.cc:1061: Starting in XGBoost 1.3.0, the default evaluation metric used with the objective 'binary:logistic' was changed from 'error' to 'logloss'. Explicitly set eval_metric if you'd like to restore the old behavior.\n",
      "[00:35:05] WARNING: /Users/travis/build/dmlc/xgboost/src/learner.cc:1061: Starting in XGBoost 1.3.0, the default evaluation metric used with the objective 'binary:logistic' was changed from 'error' to 'logloss'. Explicitly set eval_metric if you'd like to restore the old behavior.\n"
     ]
    },
    {
     "name": "stderr",
     "output_type": "stream",
     "text": [
      "/Users/xinxuegu/opt/anaconda3/lib/python3.8/site-packages/xgboost/sklearn.py:888: UserWarning: The use of label encoder in XGBClassifier is deprecated and will be removed in a future release. To remove this warning, do the following: 1) Pass option use_label_encoder=False when constructing XGBClassifier object; and 2) Encode your labels (y) as integers starting with 0, i.e. 0, 1, 2, ..., [num_class - 1].\n",
      "  warnings.warn(label_encoder_deprecation_msg, UserWarning)\n"
     ]
    },
    {
     "name": "stdout",
     "output_type": "stream",
     "text": [
      "[00:35:06] WARNING: /Users/travis/build/dmlc/xgboost/src/learner.cc:1061: Starting in XGBoost 1.3.0, the default evaluation metric used with the objective 'binary:logistic' was changed from 'error' to 'logloss'. Explicitly set eval_metric if you'd like to restore the old behavior.\n",
      "[00:35:06] WARNING: /Users/travis/build/dmlc/xgboost/src/learner.cc:1061: Starting in XGBoost 1.3.0, the default evaluation metric used with the objective 'binary:logistic' was changed from 'error' to 'logloss'. Explicitly set eval_metric if you'd like to restore the old behavior.\n",
      "[00:35:06] WARNING: /Users/travis/build/dmlc/xgboost/src/learner.cc:1061: Starting in XGBoost 1.3.0, the default evaluation metric used with the objective 'binary:logistic' was changed from 'error' to 'logloss'. Explicitly set eval_metric if you'd like to restore the old behavior.\n",
      "[00:35:06] WARNING: /Users/travis/build/dmlc/xgboost/src/learner.cc:1061: Starting in XGBoost 1.3.0, the default evaluation metric used with the objective 'binary:logistic' was changed from 'error' to 'logloss'. Explicitly set eval_metric if you'd like to restore the old behavior.\n",
      "[00:35:06] WARNING: /Users/travis/build/dmlc/xgboost/src/learner.cc:1061: Starting in XGBoost 1.3.0, the default evaluation metric used with the objective 'binary:logistic' was changed from 'error' to 'logloss'. Explicitly set eval_metric if you'd like to restore the old behavior.\n",
      "[00:35:06] WARNING: /Users/travis/build/dmlc/xgboost/src/learner.cc:1061: Starting in XGBoost 1.3.0, the default evaluation metric used with the objective 'binary:logistic' was changed from 'error' to 'logloss'. Explicitly set eval_metric if you'd like to restore the old behavior.\n",
      "[00:35:07] WARNING: /Users/travis/build/dmlc/xgboost/src/learner.cc:1061: Starting in XGBoost 1.3.0, the default evaluation metric used with the objective 'binary:logistic' was changed from 'error' to 'logloss'. Explicitly set eval_metric if you'd like to restore the old behavior.\n",
      "[00:35:07] WARNING: /Users/travis/build/dmlc/xgboost/src/learner.cc:1061: Starting in XGBoost 1.3.0, the default evaluation metric used with the objective 'binary:logistic' was changed from 'error' to 'logloss'. Explicitly set eval_metric if you'd like to restore the old behavior.\n",
      "\n",
      "XGBClassifier(base_score=None, booster=None, colsample_bylevel=None,\n",
      "              colsample_bynode=None, colsample_bytree=None, gamma=None,\n",
      "              gpu_id=None, importance_type='gain', interaction_constraints=None,\n",
      "              learning_rate=None, max_delta_step=None, max_depth=None,\n",
      "              min_child_weight=None, missing=nan, monotone_constraints=None,\n",
      "              n_estimators=100, n_jobs=None, num_parallel_tree=None,\n",
      "              random_state=None, reg_alpha=None, reg_lambda=None,\n",
      "              scale_pos_weight=None, subsample=None, tree_method=None,\n",
      "              validate_parameters=None, verbosity=None):\n",
      "\n",
      "accuracy of 10-folds [0.94642857 0.94047619 0.93452381 0.91666667 0.96428571 0.94047619\n",
      " 0.89285714 0.94047619 0.92261905 0.92857143] \n",
      "(mean classification error:) 0.06726190476190474 )\n"
     ]
    }
   ],
   "source": [
    "ten_fold_cv(logistic_model,0,X,y)\n",
    "ten_fold_cv(naive_bayes,1,X,y)\n",
    "ten_fold_cv(random_forest,2,X,y)\n",
    "ten_fold_cv(decision_tree,3,X,y)\n",
    "ten_fold_cv(knn3,4,X,y)\n",
    "ten_fold_cv(knn46,5,X,y)\n",
    "ten_fold_cv(svc,6,X,y)\n",
    "ten_fold_cv(xgboost,7,X,y)"
   ]
  },
  {
   "cell_type": "code",
   "execution_count": 110,
   "metadata": {
    "ExecuteTime": {
     "end_time": "2021-04-09T16:31:56.623044Z",
     "start_time": "2021-04-09T16:31:56.615838Z"
    }
   },
   "outputs": [
    {
     "data": {
      "text/html": [
       "<div>\n",
       "<style scoped>\n",
       "    .dataframe tbody tr th:only-of-type {\n",
       "        vertical-align: middle;\n",
       "    }\n",
       "\n",
       "    .dataframe tbody tr th {\n",
       "        vertical-align: top;\n",
       "    }\n",
       "\n",
       "    .dataframe thead th {\n",
       "        text-align: right;\n",
       "    }\n",
       "</style>\n",
       "<table border=\"1\" class=\"dataframe\">\n",
       "  <thead>\n",
       "    <tr style=\"text-align: right;\">\n",
       "      <th></th>\n",
       "      <th>model</th>\n",
       "      <th>classification error</th>\n",
       "    </tr>\n",
       "  </thead>\n",
       "  <tbody>\n",
       "    <tr>\n",
       "      <th>0</th>\n",
       "      <td>LogisticRegression(max_iter=10000, penalty='no...</td>\n",
       "      <td>0.0916667</td>\n",
       "    </tr>\n",
       "    <tr>\n",
       "      <th>1</th>\n",
       "      <td>GaussianNB()</td>\n",
       "      <td>0.119048</td>\n",
       "    </tr>\n",
       "    <tr>\n",
       "      <th>2</th>\n",
       "      <td>RandomForestClassifier()</td>\n",
       "      <td>0.0696429</td>\n",
       "    </tr>\n",
       "    <tr>\n",
       "      <th>3</th>\n",
       "      <td>DecisionTreeClassifier(max_depth=3)</td>\n",
       "      <td>0.0934524</td>\n",
       "    </tr>\n",
       "    <tr>\n",
       "      <th>4</th>\n",
       "      <td>KNeighborsClassifier(n_neighbors=3)</td>\n",
       "      <td>0.105357</td>\n",
       "    </tr>\n",
       "    <tr>\n",
       "      <th>5</th>\n",
       "      <td>KNeighborsClassifier(n_neighbors=46)</td>\n",
       "      <td>0.0880952</td>\n",
       "    </tr>\n",
       "    <tr>\n",
       "      <th>6</th>\n",
       "      <td>SVC(C=1000.0, gamma='auto')</td>\n",
       "      <td>0.0994048</td>\n",
       "    </tr>\n",
       "    <tr>\n",
       "      <th>7</th>\n",
       "      <td>XGBClassifier(base_score=None, booster=None, c...</td>\n",
       "      <td>0.0672619</td>\n",
       "    </tr>\n",
       "  </tbody>\n",
       "</table>\n",
       "</div>"
      ],
      "text/plain": [
       "                                               model classification error\n",
       "0  LogisticRegression(max_iter=10000, penalty='no...            0.0916667\n",
       "1                                       GaussianNB()             0.119048\n",
       "2                           RandomForestClassifier()            0.0696429\n",
       "3                DecisionTreeClassifier(max_depth=3)            0.0934524\n",
       "4                KNeighborsClassifier(n_neighbors=3)             0.105357\n",
       "5               KNeighborsClassifier(n_neighbors=46)            0.0880952\n",
       "6                        SVC(C=1000.0, gamma='auto')            0.0994048\n",
       "7  XGBClassifier(base_score=None, booster=None, c...            0.0672619"
      ]
     },
     "execution_count": 110,
     "metadata": {},
     "output_type": "execute_result"
    }
   ],
   "source": [
    "models_10fold"
   ]
  },
  {
   "cell_type": "code",
   "execution_count": 111,
   "metadata": {
    "ExecuteTime": {
     "end_time": "2021-04-09T16:32:01.092960Z",
     "start_time": "2021-04-09T16:32:01.085647Z"
    }
   },
   "outputs": [],
   "source": [
    "\n",
    "models_10fold.to_csv('models_10foldsCV_noNorm.csv')"
   ]
  },
  {
   "cell_type": "markdown",
   "metadata": {},
   "source": [
    "So Far random forest is the best"
   ]
  },
  {
   "cell_type": "markdown",
   "metadata": {},
   "source": [
    "### LOOCV"
   ]
  },
  {
   "cell_type": "code",
   "execution_count": null,
   "metadata": {},
   "outputs": [],
   "source": [
    "#https://www.kaggle.com/prashant111/svm-classifier-tutorial"
   ]
  },
  {
   "cell_type": "markdown",
   "metadata": {},
   "source": [
    "Don’t Use LOOCV: Large datasets or costly models to fit.\n",
    "Given the improved estimate of model performance, LOOCV is appropriate when an accurate estimate of model performance is critical. This particularly case when the dataset is small, such as less than thousands of examples, can lead to model overfitting during training and biased estimates of model performance.\n",
    "\n",
    "Further, given that no sampling of the training dataset is used, this estimation procedure is deterministic, unlike train-test splits and other k-fold cross-validation confirmations that provide a stochastic estimate of model performance.\n",
    "\n",
    "Use LOOCV: Small datasets or when estimated model performance is critical.\n",
    "Once models have been evaluated using LOOCV and a final model and configuration chosen, a final model is then fit on all available data and used to make predictions on new data.\n",
    "\n",
    "Now that we are familiar with the LOOCV procedure, let’s look at how we can use the method in Python.\n",
    "\n"
   ]
  },
  {
   "cell_type": "code",
   "execution_count": 112,
   "metadata": {
    "ExecuteTime": {
     "end_time": "2021-04-09T16:32:20.892479Z",
     "start_time": "2021-04-09T16:32:20.886162Z"
    }
   },
   "outputs": [],
   "source": [
    "models = pd.DataFrame(columns = ['model','classification error'])"
   ]
  },
  {
   "cell_type": "code",
   "execution_count": 61,
   "metadata": {
    "ExecuteTime": {
     "end_time": "2021-04-09T06:55:44.317386Z",
     "start_time": "2021-04-09T06:55:44.312785Z"
    }
   },
   "outputs": [],
   "source": [
    "# def LOOCV(model,n,X,y):\n",
    "#     \"\"\"\n",
    "#     n is the identifier of model\n",
    "#     \"\"\"\n",
    "    \n",
    "#     score = cross_val_score(model, \n",
    "#                                    X,y,\n",
    "#                                   cv = LeaveOneOut() ,scoring='accuracy')\n",
    "#     models.loc[n,'model'] = str(model)\n",
    "#     models.loc[n,'classification error'] = 1-np.mean(score)\n",
    "#     print(f'\\n{model}:\\n')\n",
    "#     print('accuracy of 10-folds',score,'\\n(mean classification error:)',1-np.mean(score),')')\n",
    "    \n",
    "# ## if cv = int, then StratifiedKold is used "
   ]
  },
  {
   "cell_type": "code",
   "execution_count": 32,
   "metadata": {
    "ExecuteTime": {
     "end_time": "2021-04-06T07:01:05.958977Z",
     "start_time": "2021-04-06T06:49:04.151200Z"
    }
   },
   "outputs": [
    {
     "name": "stdout",
     "output_type": "stream",
     "text": [
      "\n",
      "LogisticRegression(max_iter=10000, penalty='none'):\n",
      "\n",
      "accuracy of 10-folds [1. 1. 1. ... 1. 1. 1.] \n",
      "(mean classification error:) 0.0892857142857143 )\n",
      "\n",
      "RandomForestClassifier():\n",
      "\n",
      "accuracy of 10-folds [1. 1. 1. ... 1. 1. 1.] \n",
      "(mean classification error:) 0.06845238095238093 )\n",
      "\n",
      "DecisionTreeClassifier(max_depth=3):\n",
      "\n",
      "accuracy of 10-folds [1. 1. 1. ... 1. 1. 1.] \n",
      "(mean classification error:) 0.08511904761904765 )\n",
      "\n",
      "KNeighborsClassifier(n_neighbors=3):\n",
      "\n",
      "accuracy of 10-folds [1. 1. 1. ... 1. 1. 1.] \n",
      "(mean classification error:) 0.10119047619047616 )\n",
      "\n",
      "KNeighborsClassifier(n_neighbors=46):\n",
      "\n",
      "accuracy of 10-folds [1. 1. 1. ... 1. 1. 1.] \n",
      "(mean classification error:) 0.08869047619047621 )\n",
      "\n",
      "SVC(C=1000.0, gamma='auto'):\n",
      "\n",
      "accuracy of 10-folds [1. 1. 1. ... 1. 1. 1.] \n",
      "(mean classification error:) 0.09523809523809523 )\n"
     ]
    }
   ],
   "source": [
    "# LOOCV(logistic_model,0,X,y)\n",
    "# LOOCV(random_forest,1,X,y)\n",
    "# LOOCV(decision_tree,2,X,y)\n",
    "# LOOCV(knn3,3,X,y)\n",
    "# LOOCV(knn46,4,X,y)\n",
    "# LOOCV(svc,5,X,y)"
   ]
  },
  {
   "cell_type": "code",
   "execution_count": 47,
   "metadata": {
    "ExecuteTime": {
     "end_time": "2021-04-06T10:13:02.243942Z",
     "start_time": "2021-04-06T10:13:02.225989Z"
    }
   },
   "outputs": [],
   "source": [
    "# models_10fold.to_csv('models_10foldsCV_noNorm.csv')"
   ]
  },
  {
   "cell_type": "code",
   "execution_count": 48,
   "metadata": {
    "ExecuteTime": {
     "end_time": "2021-04-06T10:14:02.047748Z",
     "start_time": "2021-04-06T10:14:02.042849Z"
    }
   },
   "outputs": [],
   "source": [
    "# models.to_csv('models_LOOCV_noNorm.csv')"
   ]
  },
  {
   "cell_type": "markdown",
   "metadata": {},
   "source": [
    "### Normalization"
   ]
  },
  {
   "cell_type": "code",
   "execution_count": 113,
   "metadata": {
    "ExecuteTime": {
     "end_time": "2021-04-09T16:32:34.341334Z",
     "start_time": "2021-04-09T16:32:34.338830Z"
    }
   },
   "outputs": [],
   "source": [
    "from sklearn.preprocessing import StandardScaler"
   ]
  },
  {
   "cell_type": "code",
   "execution_count": 114,
   "metadata": {
    "ExecuteTime": {
     "end_time": "2021-04-09T16:32:36.710857Z",
     "start_time": "2021-04-09T16:32:36.697417Z"
    }
   },
   "outputs": [
    {
     "data": {
      "text/html": [
       "<div>\n",
       "<style scoped>\n",
       "    .dataframe tbody tr th:only-of-type {\n",
       "        vertical-align: middle;\n",
       "    }\n",
       "\n",
       "    .dataframe tbody tr th {\n",
       "        vertical-align: top;\n",
       "    }\n",
       "\n",
       "    .dataframe thead th {\n",
       "        text-align: right;\n",
       "    }\n",
       "</style>\n",
       "<table border=\"1\" class=\"dataframe\">\n",
       "  <thead>\n",
       "    <tr style=\"text-align: right;\">\n",
       "      <th></th>\n",
       "      <th>Value</th>\n",
       "      <th>S</th>\n",
       "      <th>K</th>\n",
       "      <th>tau</th>\n",
       "      <th>r</th>\n",
       "      <th>BS_binary</th>\n",
       "    </tr>\n",
       "  </thead>\n",
       "  <tbody>\n",
       "    <tr>\n",
       "      <th>0</th>\n",
       "      <td>21.670404</td>\n",
       "      <td>431.623898</td>\n",
       "      <td>420</td>\n",
       "      <td>0.341270</td>\n",
       "      <td>0.03013</td>\n",
       "      <td>0</td>\n",
       "    </tr>\n",
       "    <tr>\n",
       "      <th>1</th>\n",
       "      <td>0.125000</td>\n",
       "      <td>427.015526</td>\n",
       "      <td>465</td>\n",
       "      <td>0.166667</td>\n",
       "      <td>0.03126</td>\n",
       "      <td>1</td>\n",
       "    </tr>\n",
       "    <tr>\n",
       "      <th>2</th>\n",
       "      <td>20.691244</td>\n",
       "      <td>427.762336</td>\n",
       "      <td>415</td>\n",
       "      <td>0.265873</td>\n",
       "      <td>0.03116</td>\n",
       "      <td>0</td>\n",
       "    </tr>\n",
       "    <tr>\n",
       "      <th>3</th>\n",
       "      <td>1.035002</td>\n",
       "      <td>451.711658</td>\n",
       "      <td>460</td>\n",
       "      <td>0.063492</td>\n",
       "      <td>0.02972</td>\n",
       "      <td>1</td>\n",
       "    </tr>\n",
       "    <tr>\n",
       "      <th>4</th>\n",
       "      <td>39.553020</td>\n",
       "      <td>446.718974</td>\n",
       "      <td>410</td>\n",
       "      <td>0.166667</td>\n",
       "      <td>0.02962</td>\n",
       "      <td>0</td>\n",
       "    </tr>\n",
       "  </tbody>\n",
       "</table>\n",
       "</div>"
      ],
      "text/plain": [
       "       Value           S    K       tau        r  BS_binary\n",
       "0  21.670404  431.623898  420  0.341270  0.03013          0\n",
       "1   0.125000  427.015526  465  0.166667  0.03126          1\n",
       "2  20.691244  427.762336  415  0.265873  0.03116          0\n",
       "3   1.035002  451.711658  460  0.063492  0.02972          1\n",
       "4  39.553020  446.718974  410  0.166667  0.02962          0"
      ]
     },
     "execution_count": 114,
     "metadata": {},
     "output_type": "execute_result"
    }
   ],
   "source": [
    "train.head()"
   ]
  },
  {
   "cell_type": "code",
   "execution_count": 115,
   "metadata": {
    "ExecuteTime": {
     "end_time": "2021-04-09T16:32:38.731509Z",
     "start_time": "2021-04-09T16:32:38.722828Z"
    }
   },
   "outputs": [],
   "source": [
    "X_train = train.iloc[:,1:5]\n",
    "y_train = train.iloc[:,5]\n",
    "stdsc = StandardScaler()\n",
    "X_train_std = stdsc.fit_transform(X_train)"
   ]
  },
  {
   "cell_type": "code",
   "execution_count": 116,
   "metadata": {
    "ExecuteTime": {
     "end_time": "2021-04-09T16:33:38.012775Z",
     "start_time": "2021-04-09T16:33:33.621504Z"
    }
   },
   "outputs": [
    {
     "name": "stdout",
     "output_type": "stream",
     "text": [
      "\n",
      "LogisticRegression(max_iter=10000, penalty='none'):\n",
      "\n",
      "accuracy of 10-folds [0.94642857 0.94642857 0.92261905 0.88095238 0.93452381 0.92857143\n",
      " 0.85714286 0.92261905 0.88095238 0.91666667] \n",
      "(mean classification error:) 0.08630952380952395 )\n",
      "\n",
      "GaussianNB():\n",
      "\n",
      "accuracy of 10-folds [0.92857143 0.9047619  0.88690476 0.82142857 0.91071429 0.88690476\n",
      " 0.86309524 0.85714286 0.875      0.875     ] \n",
      "(mean classification error:) 0.11904761904761896 )\n",
      "\n",
      "RandomForestClassifier():\n",
      "\n",
      "accuracy of 10-folds [0.95238095 0.95238095 0.94047619 0.89880952 0.94642857 0.92857143\n",
      " 0.88095238 0.93452381 0.91666667 0.94047619] \n",
      "(mean classification error:) 0.07083333333333341 )\n",
      "\n",
      "DecisionTreeClassifier(max_depth=3):\n",
      "\n",
      "accuracy of 10-folds [0.95833333 0.9047619  0.92261905 0.875      0.93452381 0.91666667\n",
      " 0.86309524 0.89285714 0.9047619  0.89285714] \n",
      "(mean classification error:) 0.09345238095238106 )\n",
      "\n",
      "KNeighborsClassifier(n_neighbors=3):\n",
      "\n",
      "accuracy of 10-folds [0.95238095 0.93452381 0.91666667 0.89285714 0.95833333 0.91666667\n",
      " 0.9047619  0.92261905 0.93452381 0.91666667] \n",
      "(mean classification error:) 0.07499999999999996 )\n",
      "\n",
      "KNeighborsClassifier(n_neighbors=46):\n",
      "\n",
      "accuracy of 10-folds [0.9702381  0.94642857 0.94047619 0.89285714 0.94642857 0.92857143\n",
      " 0.88095238 0.93452381 0.88095238 0.93452381] \n",
      "(mean classification error:) 0.07440476190476186 )\n",
      "\n",
      "SVC(C=1000.0, gamma='auto'):\n",
      "\n",
      "accuracy of 10-folds [0.96428571 0.94047619 0.9047619  0.9047619  0.92261905 0.92261905\n",
      " 0.88095238 0.92261905 0.89285714 0.92857143] \n",
      "(mean classification error:) 0.08154761904761898 )\n",
      "[00:33:36] WARNING: /Users/travis/build/dmlc/xgboost/src/learner.cc:1061: Starting in XGBoost 1.3.0, the default evaluation metric used with the objective 'binary:logistic' was changed from 'error' to 'logloss'. Explicitly set eval_metric if you'd like to restore the old behavior.\n",
      "[00:33:36] WARNING: /Users/travis/build/dmlc/xgboost/src/learner.cc:1061: Starting in XGBoost 1.3.0, the default evaluation metric used with the objective 'binary:logistic' was changed from 'error' to 'logloss'. Explicitly set eval_metric if you'd like to restore the old behavior.\n"
     ]
    },
    {
     "name": "stderr",
     "output_type": "stream",
     "text": [
      "/Users/xinxuegu/opt/anaconda3/lib/python3.8/site-packages/xgboost/sklearn.py:888: UserWarning: The use of label encoder in XGBClassifier is deprecated and will be removed in a future release. To remove this warning, do the following: 1) Pass option use_label_encoder=False when constructing XGBClassifier object; and 2) Encode your labels (y) as integers starting with 0, i.e. 0, 1, 2, ..., [num_class - 1].\n",
      "  warnings.warn(label_encoder_deprecation_msg, UserWarning)\n"
     ]
    },
    {
     "name": "stdout",
     "output_type": "stream",
     "text": [
      "[00:33:36] WARNING: /Users/travis/build/dmlc/xgboost/src/learner.cc:1061: Starting in XGBoost 1.3.0, the default evaluation metric used with the objective 'binary:logistic' was changed from 'error' to 'logloss'. Explicitly set eval_metric if you'd like to restore the old behavior.\n",
      "[00:33:36] WARNING: /Users/travis/build/dmlc/xgboost/src/learner.cc:1061: Starting in XGBoost 1.3.0, the default evaluation metric used with the objective 'binary:logistic' was changed from 'error' to 'logloss'. Explicitly set eval_metric if you'd like to restore the old behavior.\n",
      "[00:33:37] WARNING: /Users/travis/build/dmlc/xgboost/src/learner.cc:1061: Starting in XGBoost 1.3.0, the default evaluation metric used with the objective 'binary:logistic' was changed from 'error' to 'logloss'. Explicitly set eval_metric if you'd like to restore the old behavior.\n",
      "[00:33:37] WARNING: /Users/travis/build/dmlc/xgboost/src/learner.cc:1061: Starting in XGBoost 1.3.0, the default evaluation metric used with the objective 'binary:logistic' was changed from 'error' to 'logloss'. Explicitly set eval_metric if you'd like to restore the old behavior.\n",
      "[00:33:37] WARNING: /Users/travis/build/dmlc/xgboost/src/learner.cc:1061: Starting in XGBoost 1.3.0, the default evaluation metric used with the objective 'binary:logistic' was changed from 'error' to 'logloss'. Explicitly set eval_metric if you'd like to restore the old behavior.\n",
      "[00:33:37] WARNING: /Users/travis/build/dmlc/xgboost/src/learner.cc:1061: Starting in XGBoost 1.3.0, the default evaluation metric used with the objective 'binary:logistic' was changed from 'error' to 'logloss'. Explicitly set eval_metric if you'd like to restore the old behavior.\n",
      "[00:33:37] WARNING: /Users/travis/build/dmlc/xgboost/src/learner.cc:1061: Starting in XGBoost 1.3.0, the default evaluation metric used with the objective 'binary:logistic' was changed from 'error' to 'logloss'. Explicitly set eval_metric if you'd like to restore the old behavior.\n",
      "[00:33:37] WARNING: /Users/travis/build/dmlc/xgboost/src/learner.cc:1061: Starting in XGBoost 1.3.0, the default evaluation metric used with the objective 'binary:logistic' was changed from 'error' to 'logloss'. Explicitly set eval_metric if you'd like to restore the old behavior.\n",
      "\n",
      "XGBClassifier(base_score=None, booster=None, colsample_bylevel=None,\n",
      "              colsample_bynode=None, colsample_bytree=None, gamma=None,\n",
      "              gpu_id=None, importance_type='gain', interaction_constraints=None,\n",
      "              learning_rate=None, max_delta_step=None, max_depth=None,\n",
      "              min_child_weight=None, missing=nan, monotone_constraints=None,\n",
      "              n_estimators=100, n_jobs=None, num_parallel_tree=None,\n",
      "              random_state=None, reg_alpha=None, reg_lambda=None,\n",
      "              scale_pos_weight=None, subsample=None, tree_method=None,\n",
      "              validate_parameters=None, verbosity=None):\n",
      "\n",
      "accuracy of 10-folds [0.94642857 0.94047619 0.93452381 0.91666667 0.96428571 0.94047619\n",
      " 0.89285714 0.94047619 0.92261905 0.92857143] \n",
      "(mean classification error:) 0.06726190476190474 )\n"
     ]
    }
   ],
   "source": [
    "ten_fold_cv(logistic_model,0,X_train_std,y_train)\n",
    "ten_fold_cv(naive_bayes,1,X,y)\n",
    "ten_fold_cv(random_forest,2,X_train_std,y_train)\n",
    "ten_fold_cv(decision_tree,3,X_train_std,y_train)\n",
    "ten_fold_cv(knn3,4,X_train_std,y_train)\n",
    "ten_fold_cv(knn46,5,X_train_std,y_train)\n",
    "ten_fold_cv(svc,6,X_train_std,y_train)\n",
    "ten_fold_cv(xgboost,7,X_train_std,y_train)\n"
   ]
  },
  {
   "cell_type": "code",
   "execution_count": 117,
   "metadata": {
    "ExecuteTime": {
     "end_time": "2021-04-09T16:33:43.183664Z",
     "start_time": "2021-04-09T16:33:43.177845Z"
    }
   },
   "outputs": [],
   "source": [
    "models_10foldsCV_Norm = models_10fold\n",
    "models_10foldsCV_Norm.to_csv('models_10foldsCV_Norm.csv')\n"
   ]
  },
  {
   "cell_type": "code",
   "execution_count": 118,
   "metadata": {
    "ExecuteTime": {
     "end_time": "2021-04-09T16:33:45.631379Z",
     "start_time": "2021-04-09T16:33:45.624903Z"
    }
   },
   "outputs": [
    {
     "data": {
      "text/html": [
       "<div>\n",
       "<style scoped>\n",
       "    .dataframe tbody tr th:only-of-type {\n",
       "        vertical-align: middle;\n",
       "    }\n",
       "\n",
       "    .dataframe tbody tr th {\n",
       "        vertical-align: top;\n",
       "    }\n",
       "\n",
       "    .dataframe thead th {\n",
       "        text-align: right;\n",
       "    }\n",
       "</style>\n",
       "<table border=\"1\" class=\"dataframe\">\n",
       "  <thead>\n",
       "    <tr style=\"text-align: right;\">\n",
       "      <th></th>\n",
       "      <th>model</th>\n",
       "      <th>classification error</th>\n",
       "    </tr>\n",
       "  </thead>\n",
       "  <tbody>\n",
       "    <tr>\n",
       "      <th>0</th>\n",
       "      <td>LogisticRegression(max_iter=10000, penalty='no...</td>\n",
       "      <td>0.0863095</td>\n",
       "    </tr>\n",
       "    <tr>\n",
       "      <th>1</th>\n",
       "      <td>GaussianNB()</td>\n",
       "      <td>0.119048</td>\n",
       "    </tr>\n",
       "    <tr>\n",
       "      <th>2</th>\n",
       "      <td>RandomForestClassifier()</td>\n",
       "      <td>0.0708333</td>\n",
       "    </tr>\n",
       "    <tr>\n",
       "      <th>3</th>\n",
       "      <td>DecisionTreeClassifier(max_depth=3)</td>\n",
       "      <td>0.0934524</td>\n",
       "    </tr>\n",
       "    <tr>\n",
       "      <th>4</th>\n",
       "      <td>KNeighborsClassifier(n_neighbors=3)</td>\n",
       "      <td>0.075</td>\n",
       "    </tr>\n",
       "    <tr>\n",
       "      <th>5</th>\n",
       "      <td>KNeighborsClassifier(n_neighbors=46)</td>\n",
       "      <td>0.0744048</td>\n",
       "    </tr>\n",
       "    <tr>\n",
       "      <th>6</th>\n",
       "      <td>SVC(C=1000.0, gamma='auto')</td>\n",
       "      <td>0.0815476</td>\n",
       "    </tr>\n",
       "    <tr>\n",
       "      <th>7</th>\n",
       "      <td>XGBClassifier(base_score=None, booster=None, c...</td>\n",
       "      <td>0.0672619</td>\n",
       "    </tr>\n",
       "  </tbody>\n",
       "</table>\n",
       "</div>"
      ],
      "text/plain": [
       "                                               model classification error\n",
       "0  LogisticRegression(max_iter=10000, penalty='no...            0.0863095\n",
       "1                                       GaussianNB()             0.119048\n",
       "2                           RandomForestClassifier()            0.0708333\n",
       "3                DecisionTreeClassifier(max_depth=3)            0.0934524\n",
       "4                KNeighborsClassifier(n_neighbors=3)                0.075\n",
       "5               KNeighborsClassifier(n_neighbors=46)            0.0744048\n",
       "6                        SVC(C=1000.0, gamma='auto')            0.0815476\n",
       "7  XGBClassifier(base_score=None, booster=None, c...            0.0672619"
      ]
     },
     "execution_count": 118,
     "metadata": {},
     "output_type": "execute_result"
    }
   ],
   "source": [
    "models_10foldsCV_Norm"
   ]
  },
  {
   "cell_type": "code",
   "execution_count": null,
   "metadata": {},
   "outputs": [],
   "source": [
    "xgboost_2 = XGBClassifier(max_depth = 5,n_estimators=100)\n",
    "ten_fold_cv(xgboost,7,X_train_std,y_train)"
   ]
  },
  {
   "cell_type": "markdown",
   "metadata": {},
   "source": [
    "### 2.3 Ensemble model? votes?"
   ]
  },
  {
   "cell_type": "code",
   "execution_count": null,
   "metadata": {},
   "outputs": [],
   "source": []
  },
  {
   "cell_type": "code",
   "execution_count": null,
   "metadata": {},
   "outputs": [],
   "source": []
  },
  {
   "cell_type": "code",
   "execution_count": null,
   "metadata": {},
   "outputs": [],
   "source": []
  },
  {
   "cell_type": "code",
   "execution_count": null,
   "metadata": {},
   "outputs": [],
   "source": []
  },
  {
   "cell_type": "code",
   "execution_count": null,
   "metadata": {},
   "outputs": [],
   "source": []
  }
 ],
 "metadata": {
  "kernelspec": {
   "display_name": "Python 3",
   "language": "python",
   "name": "python3"
  },
  "language_info": {
   "codemirror_mode": {
    "name": "ipython",
    "version": 3
   },
   "file_extension": ".py",
   "mimetype": "text/x-python",
   "name": "python",
   "nbconvert_exporter": "python",
   "pygments_lexer": "ipython3",
   "version": "3.8.3"
  },
  "toc": {
   "base_numbering": 1,
   "nav_menu": {},
   "number_sections": true,
   "sideBar": true,
   "skip_h1_title": false,
   "title_cell": "Table of Contents",
   "title_sidebar": "Contents",
   "toc_cell": false,
   "toc_position": {},
   "toc_section_display": true,
   "toc_window_display": false
  },
  "varInspector": {
   "cols": {
    "lenName": 16,
    "lenType": 16,
    "lenVar": 40
   },
   "kernels_config": {
    "python": {
     "delete_cmd_postfix": "",
     "delete_cmd_prefix": "del ",
     "library": "var_list.py",
     "varRefreshCmd": "print(var_dic_list())"
    },
    "r": {
     "delete_cmd_postfix": ") ",
     "delete_cmd_prefix": "rm(",
     "library": "var_list.r",
     "varRefreshCmd": "cat(var_dic_list()) "
    }
   },
   "position": {
    "height": "29px",
    "left": "1204px",
    "right": "20px",
    "top": "120px",
    "width": "22px"
   },
   "types_to_exclude": [
    "module",
    "function",
    "builtin_function_or_method",
    "instance",
    "_Feature"
   ],
   "window_display": true
  }
 },
 "nbformat": 4,
 "nbformat_minor": 4
}
